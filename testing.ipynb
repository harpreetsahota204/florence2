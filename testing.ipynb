{
 "cells": [
  {
   "cell_type": "markdown",
   "metadata": {},
   "source": [
    "Testing implemention of Florence2 as FO Model"
   ]
  },
  {
   "cell_type": "code",
   "execution_count": null,
   "metadata": {},
   "outputs": [],
   "source": [
    "!pip install einops timm"
   ]
  },
  {
   "cell_type": "code",
   "execution_count": null,
   "metadata": {},
   "outputs": [],
   "source": [
    "import sys\n",
    "sys.path.append(\".\")\n",
    "from florence2 import Florence2, run_florence2_model"
   ]
  },
  {
   "cell_type": "code",
   "execution_count": null,
   "metadata": {},
   "outputs": [],
   "source": [
    "import fiftyone as fo\n",
    "import fiftyone.zoo as foz\n",
    "\n",
    "dataset = foz.load_zoo_dataset(\"quickstart\")"
   ]
  },
  {
   "cell_type": "code",
   "execution_count": 4,
   "metadata": {},
   "outputs": [],
   "source": [
    "MODEL_PATH =\"microsoft/Florence-2-base-ft\""
   ]
  },
  {
   "cell_type": "markdown",
   "metadata": {},
   "source": [
    "#### Captioning\n",
    "\n",
    "```python\n",
    "\n",
    "    \"caption\": {\n",
    "        \"params\": {\"detail_level\": [\"basic\", \"detailed\", \"more_detailed\"]},\n",
    "        \"required\": [],\n",
    "        \"task_mapping\": {\n",
    "            \"detailed\": \"<DETAILED_CAPTION>\",\n",
    "            \"more_detailed\": \"<MORE_DETAILED_CAPTION>\",\n",
    "            \"basic\": \"<CAPTION>\",\n",
    "            None: \"<CAPTION>\"  # Default value\n",
    "```"
   ]
  },
  {
   "cell_type": "code",
   "execution_count": null,
   "metadata": {},
   "outputs": [],
   "source": [
    "run_florence2_model(\n",
    "    dataset,\n",
    "    model_path=MODEL_PATH,\n",
    "    operation=\"caption\",\n",
    "    detail_level=\"basic\",\n",
    "    output_field=\"basic_caption\",\n",
    "    )"
   ]
  },
  {
   "cell_type": "code",
   "execution_count": null,
   "metadata": {},
   "outputs": [],
   "source": [
    "run_florence2_model(\n",
    "    dataset,\n",
    "    model_path=MODEL_PATH,\n",
    "    operation=\"caption\",\n",
    "    detail_level=\"detailed\",\n",
    "    output_field=\"detailed_caption\",\n",
    "    )"
   ]
  },
  {
   "cell_type": "code",
   "execution_count": null,
   "metadata": {},
   "outputs": [],
   "source": [
    "run_florence2_model(\n",
    "    dataset,\n",
    "    model_path=MODEL_PATH,\n",
    "    operation=\"caption\",\n",
    "    detail_level=\"more_detailed\",\n",
    "    output_field=\"more_detailed_caption\",\n",
    "    )"
   ]
  },
  {
   "cell_type": "code",
   "execution_count": null,
   "metadata": {},
   "outputs": [],
   "source": [
    "dataset.first()"
   ]
  },
  {
   "cell_type": "markdown",
   "metadata": {},
   "source": [
    "##### Phrase grounding\n",
    "\n",
    "\n",
    "```python\n",
    "    \"phrase_grounding\": {\n",
    "        \"params\": {\"caption_field\": str, \"caption\": str},\n",
    "        \"required\": [],  # Will be validated in code\n",
    "        \"task\": \"<CAPTION_TO_PHRASE_GROUNDING>\"\n",
    "    },\n",
    "````"
   ]
  },
  {
   "cell_type": "code",
   "execution_count": null,
   "metadata": {},
   "outputs": [],
   "source": [
    "run_florence2_model(\n",
    "    dataset,\n",
    "    model_path=MODEL_PATH,\n",
    "    operation=\"phrase_grounding\",\n",
    "    caption_field=\"detailed_caption\",\n",
    "    output_field=\"florence_phrase_grounding\",\n",
    "    )"
   ]
  },
  {
   "cell_type": "code",
   "execution_count": null,
   "metadata": {},
   "outputs": [],
   "source": [
    "run_florence2_model(\n",
    "    dataset,\n",
    "    operation=\"phrase_grounding\",\n",
    "    model_path=MODEL_PATH,\n",
    "    caption=\"The inanimate object\",\n",
    "    output_field=\"fake_caption_phrase_grounding\",\n",
    "    )"
   ]
  },
  {
   "cell_type": "code",
   "execution_count": null,
   "metadata": {},
   "outputs": [],
   "source": [
    "dataset"
   ]
  },
  {
   "cell_type": "code",
   "execution_count": null,
   "metadata": {},
   "outputs": [],
   "source": [
    "dataset.first()"
   ]
  },
  {
   "cell_type": "markdown",
   "metadata": {},
   "source": [
    "##### Detection\n",
    "\n",
    "```python\n",
    "\"detection\": {\n",
    "        \"params\": {\"detection_type\": [\"detection\", \"dense_region_caption\", \"region_proposal\", \"open_vocabulary_detection\"],\n",
    "                   \"text_prompt\": str},\n",
    "        \"required\": [],\n",
    "        \"task_mapping\": {\n",
    "            \"detection\": \"<OD>\",\n",
    "            \"dense_region_caption\": \"<DENSE_REGION_CAPTION>\",\n",
    "            \"region_proposal\": \"<REGION_PROPOSAL>\",\n",
    "            \"open_vocabulary_detection\": \"<OPEN_VOCABULARY_DETECTION>\",\n",
    "            None: \"<OD>\"  # Default value\n",
    "        }\n",
    "    },\n",
    "```"
   ]
  },
  {
   "cell_type": "code",
   "execution_count": null,
   "metadata": {},
   "outputs": [],
   "source": [
    "run_florence2_model(\n",
    "    dataset,\n",
    "    operation=\"detection\",\n",
    "    detection_type=\"detection\"\n",
    "    model_path=MODEL_PATH,\n",
    "    # output_field=\"florence_phrase_grounding\",\n",
    "    )"
   ]
  },
  {
   "cell_type": "code",
   "execution_count": null,
   "metadata": {},
   "outputs": [],
   "source": [
    "run_florence2_model(\n",
    "    dataset,\n",
    "    operation=\"detection\",\n",
    "    detection_type=\"dense_region_caption\"\n",
    "    model_path=MODEL_PATH,\n",
    "    # output_field=\"florence_phrase_grounding\",\n",
    "    )"
   ]
  },
  {
   "cell_type": "code",
   "execution_count": null,
   "metadata": {},
   "outputs": [],
   "source": [
    "run_florence2_model(\n",
    "    dataset,\n",
    "    operation=\"detection\",\n",
    "    detection_type=\"region_proposal\"\n",
    "    model_path=MODEL_PATH,\n",
    "    # output_field=\"florence_phrase_grounding\",\n",
    "    )"
   ]
  },
  {
   "cell_type": "code",
   "execution_count": null,
   "metadata": {},
   "outputs": [],
   "source": [
    "run_florence2_model(\n",
    "    dataset,\n",
    "    operation=\"detection\",\n",
    "    detection_type=\"open_vocabulary_detection\"\n",
    "    model_path=MODEL_PATH,\n",
    "    # output_field=\"florence_phrase_grounding\",\n",
    "    )"
   ]
  },
  {
   "cell_type": "code",
   "execution_count": null,
   "metadata": {},
   "outputs": [],
   "source": []
  },
  {
   "cell_type": "markdown",
   "metadata": {},
   "source": [
    "##### Segmentation\n",
    "\n",
    "```python\n",
    "\n",
    "    \"segmentation\": {\n",
    "        \"params\": {\"expression\": str, \"expression_field\": str},\n",
    "        \"required\": [],  # Will be validated in code\n",
    "        \"task\": \"<REFERRING_EXPRESSION_SEGMENTATION>\"\n",
    "    }\n",
    "```"
   ]
  },
  {
   "cell_type": "code",
   "execution_count": null,
   "metadata": {},
   "outputs": [],
   "source": [
    "run_florence2_model(\n",
    "    dataset,\n",
    "    operation=\"segmentation\",\n",
    "    expression=\"\"\n",
    "    model_path=MODEL_PATH,\n",
    "    # output_field=\"florence_phrase_grounding\",\n",
    "    )"
   ]
  },
  {
   "cell_type": "code",
   "execution_count": null,
   "metadata": {},
   "outputs": [],
   "source": [
    "run_florence2_model(\n",
    "    dataset,\n",
    "    operation=\"segmentation\",\n",
    "    expression_field=\"\"\n",
    "    model_path=MODEL_PATH,\n",
    "    # output_field=\"florence_phrase_grounding\",\n",
    "    )"
   ]
  },
  {
   "cell_type": "markdown",
   "metadata": {},
   "source": [
    "##### Ocr\n",
    "\n",
    "```python\n",
    "    \"ocr\": {\n",
    "        \"params\": {\"store_region_info\": bool},\n",
    "        \"required\": [],\n",
    "        \"task\": \"<OCR>\",\n",
    "        \"region_task\": \"<OCR_WITH_REGION>\"\n",
    "    },\n",
    "```"
   ]
  },
  {
   "cell_type": "code",
   "execution_count": null,
   "metadata": {},
   "outputs": [],
   "source": [
    "run_florence2_model(\n",
    "    dataset,\n",
    "    model_path=MODEL_PATH,\n",
    "    store_region_info=True\n",
    "    # output_field=\"florence_phrase_grounding\",\n",
    "    )"
   ]
  },
  {
   "cell_type": "code",
   "execution_count": null,
   "metadata": {},
   "outputs": [],
   "source": [
    "run_florence2_model(\n",
    "    dataset,\n",
    "    model_path=MODEL_PATH,\n",
    "    store_region_info=False\n",
    "    # output_field=\"florence_phrase_grounding\",\n",
    "    )"
   ]
  },
  {
   "cell_type": "markdown",
   "metadata": {},
   "source": [
    "# Testing remote zoo model"
   ]
  },
  {
   "cell_type": "code",
   "execution_count": 18,
   "metadata": {},
   "outputs": [],
   "source": [
    "import fiftyone as fo\n",
    "import fiftyone.zoo as foz\n",
    "\n",
    "foz.delete_zoo_model_source(\"https://github.com/harpreetsahota204/fiftyone_florence2_plugin\")"
   ]
  },
  {
   "cell_type": "code",
   "execution_count": 19,
   "metadata": {},
   "outputs": [
    {
     "name": "stdout",
     "output_type": "stream",
     "text": [
      "Downloading https://github.com/harpreetsahota204/fiftyone_florence2_plugin...\n",
      "   53.2Mb [393.0ms elapsed, ? remaining, 135.4Mb/s] \n"
     ]
    }
   ],
   "source": [
    "import fiftyone as fo\n",
    "import fiftyone.zoo as foz\n",
    "\n",
    "foz.register_zoo_model_source(\"https://github.com/harpreetsahota204/fiftyone_florence2_plugin\")\n"
   ]
  },
  {
   "cell_type": "code",
   "execution_count": null,
   "metadata": {},
   "outputs": [],
   "source": [
    "foz.download_zoo_model(\n",
    "    \"https://github.com/harpreetsahota204/fiftyone_florence2_plugin\",\n",
    "    model_name=\"microsoft/Florence-2-base-ft\",\n",
    ")"
   ]
  },
  {
   "cell_type": "code",
   "execution_count": 20,
   "metadata": {},
   "outputs": [
    {
     "data": {
      "application/vnd.jupyter.widget-view+json": {
       "model_id": "7f83bb0e11d94c5fb80b7dad9d4589c3",
       "version_major": 2,
       "version_minor": 0
      },
      "text/plain": [
       "Fetching 15 files:   0%|          | 0/15 [00:00<?, ?it/s]"
      ]
     },
     "metadata": {},
     "output_type": "display_data"
    },
    {
     "data": {
      "application/vnd.jupyter.widget-view+json": {
       "model_id": "f8e787c0700c484885156ad4dac4b2ab",
       "version_major": 2,
       "version_minor": 0
      },
      "text/plain": [
       "SECURITY.md:   0%|          | 0.00/2.66k [00:00<?, ?B/s]"
      ]
     },
     "metadata": {},
     "output_type": "display_data"
    },
    {
     "data": {
      "application/vnd.jupyter.widget-view+json": {
       "model_id": "3bf2f6ba0130450b8d720d9ca8c7362a",
       "version_major": 2,
       "version_minor": 0
      },
      "text/plain": [
       "CODE_OF_CONDUCT.md:   0%|          | 0.00/444 [00:00<?, ?B/s]"
      ]
     },
     "metadata": {},
     "output_type": "display_data"
    },
    {
     "data": {
      "application/vnd.jupyter.widget-view+json": {
       "model_id": "16d71a253b914c89a146772b91a86ff3",
       "version_major": 2,
       "version_minor": 0
      },
      "text/plain": [
       "LICENSE:   0%|          | 0.00/1.14k [00:00<?, ?B/s]"
      ]
     },
     "metadata": {},
     "output_type": "display_data"
    },
    {
     "data": {
      "application/vnd.jupyter.widget-view+json": {
       "model_id": "1aa87b544d604113afe2c8d4cee793fa",
       "version_major": 2,
       "version_minor": 0
      },
      "text/plain": [
       ".gitattributes:   0%|          | 0.00/1.56k [00:00<?, ?B/s]"
      ]
     },
     "metadata": {},
     "output_type": "display_data"
    },
    {
     "data": {
      "application/vnd.jupyter.widget-view+json": {
       "model_id": "82da359917d54f8fb973e8d6249507ef",
       "version_major": 2,
       "version_minor": 0
      },
      "text/plain": [
       "SUPPORT.md:   0%|          | 0.00/1.24k [00:00<?, ?B/s]"
      ]
     },
     "metadata": {},
     "output_type": "display_data"
    },
    {
     "data": {
      "application/vnd.jupyter.widget-view+json": {
       "model_id": "524f7497124a4638aa3c0eb52e9867f3",
       "version_major": 2,
       "version_minor": 0
      },
      "text/plain": [
       "README.md:   0%|          | 0.00/14.8k [00:00<?, ?B/s]"
      ]
     },
     "metadata": {},
     "output_type": "display_data"
    },
    {
     "name": "stdout",
     "output_type": "stream",
     "text": [
      "Using device: cuda\n"
     ]
    }
   ],
   "source": [
    "model = foz.load_zoo_model(\"microsoft/Florence-2-base-ft\", operation=\"caption\")"
   ]
  },
  {
   "cell_type": "code",
   "execution_count": 24,
   "metadata": {},
   "outputs": [
    {
     "name": "stdout",
     "output_type": "stream",
     "text": [
      "Dataset already downloaded\n",
      "Loading 'quickstart'\n",
      " 100% |█████████████████| 200/200 [1.9s elapsed, 0s remaining, 106.8 samples/s]         \n",
      "Dataset 'quickstart' created\n"
     ]
    }
   ],
   "source": [
    "ds = foz.load_zoo_dataset(\"quickstart\")"
   ]
  },
  {
   "cell_type": "code",
   "execution_count": 25,
   "metadata": {},
   "outputs": [
    {
     "name": "stdout",
     "output_type": "stream",
     "text": [
      "Sample: 67e300e33501f18e30a54f72                                            \n",
      "Error: Expected <class 'fiftyone.core.labels.Detections'>; found <class 'str'>\n",
      "\n",
      "Sample: 67e300e33501f18e30a54f73                                                   \n",
      "Error: Expected <class 'fiftyone.core.labels.Detections'>; found <class 'str'>\n",
      "\n",
      "Sample: 67e300e33501f18e30a54f74\n",
      "Error: Expected <class 'fiftyone.core.labels.Detections'>; found <class 'str'>\n",
      "\n",
      "Sample: 67e300e33501f18e30a54f75                                                   \n",
      "Error: Expected <class 'fiftyone.core.labels.Detections'>; found <class 'str'>\n",
      "\n",
      "Sample: 67e300e33501f18e30a54f76                                                   \n",
      "Error: Expected <class 'fiftyone.core.labels.Detections'>; found <class 'str'>\n",
      "\n",
      "Sample: 67e300e33501f18e30a54f77                                                   \n",
      "Error: Expected <class 'fiftyone.core.labels.Detections'>; found <class 'str'>\n",
      "\n",
      "Sample: 67e300e33501f18e30a54f78\n",
      "Error: Expected <class 'fiftyone.core.labels.Detections'>; found <class 'str'>\n",
      "\n",
      "Sample: 67e300e33501f18e30a54f79                                                   \n",
      "Error: Expected <class 'fiftyone.core.labels.Detections'>; found <class 'str'>\n",
      "\n",
      "Sample: 67e300e33501f18e30a54f7a                                                   \n",
      "Error: Expected <class 'fiftyone.core.labels.Detections'>; found <class 'str'>\n",
      "\n",
      "Sample: 67e300e33501f18e30a54f7b                                                   \n",
      "Error: Expected <class 'fiftyone.core.labels.Detections'>; found <class 'str'>\n",
      "\n",
      "Sample: 67e300e33501f18e30a54f7c                                                   \n",
      "Error: Expected <class 'fiftyone.core.labels.Detections'>; found <class 'str'>\n",
      "\n",
      "Sample: 67e300e33501f18e30a54f7d                                                   \n",
      "Error: Expected <class 'fiftyone.core.labels.Detections'>; found <class 'str'>\n",
      "\n",
      "Sample: 67e300e33501f18e30a54f7e\n",
      "Error: Expected <class 'fiftyone.core.labels.Detections'>; found <class 'str'>\n",
      "\n",
      "Sample: 67e300e33501f18e30a54f7f                                                   \n",
      "Error: Expected <class 'fiftyone.core.labels.Detections'>; found <class 'str'>\n",
      "\n",
      "Sample: 67e300e33501f18e30a54f80                                                   \n",
      "Error: Expected <class 'fiftyone.core.labels.Detections'>; found <class 'str'>\n",
      "\n",
      "Sample: 67e300e33501f18e30a54f81                                                   \n",
      "Error: Expected <class 'fiftyone.core.labels.Detections'>; found <class 'str'>\n",
      "\n",
      "Sample: 67e300e33501f18e30a54f82                                                   \n",
      "Error: Expected <class 'fiftyone.core.labels.Detections'>; found <class 'str'>\n",
      "\n",
      "Sample: 67e300e33501f18e30a54f83                                                   \n",
      "Error: Expected <class 'fiftyone.core.labels.Detections'>; found <class 'str'>\n",
      "\n",
      "Sample: 67e300e33501f18e30a54f84                                                   \n",
      "Error: Expected <class 'fiftyone.core.labels.Detections'>; found <class 'str'>\n",
      "\n",
      "Sample: 67e300e33501f18e30a54f85                                                   \n",
      "Error: Expected <class 'fiftyone.core.labels.Detections'>; found <class 'str'>\n",
      "\n",
      "Sample: 67e300e33501f18e30a54f86                                                   \n",
      "Error: Expected <class 'fiftyone.core.labels.Detections'>; found <class 'str'>\n",
      "\n",
      "Sample: 67e300e33501f18e30a54f87                                                   \n",
      "Error: Expected <class 'fiftyone.core.labels.Detections'>; found <class 'str'>\n",
      "\n",
      "Sample: 67e300e33501f18e30a54f88                                                   \n",
      "Error: Expected <class 'fiftyone.core.labels.Detections'>; found <class 'str'>\n",
      "\n",
      "Sample: 67e300e33501f18e30a54f89                                                   \n",
      "Error: Expected <class 'fiftyone.core.labels.Detections'>; found <class 'str'>\n",
      "\n",
      "Sample: 67e300e33501f18e30a54f8a                                                   \n",
      "Error: Expected <class 'fiftyone.core.labels.Detections'>; found <class 'str'>\n",
      "\n",
      "Sample: 67e300e33501f18e30a54f8b                                                   \n",
      "Error: Expected <class 'fiftyone.core.labels.Detections'>; found <class 'str'>\n",
      "\n",
      "Sample: 67e300e33501f18e30a54f8c                                                   \n",
      "Error: Expected <class 'fiftyone.core.labels.Detections'>; found <class 'str'>\n",
      "\n",
      "Sample: 67e300e33501f18e30a54f8d                                                   \n",
      "Error: Expected <class 'fiftyone.core.labels.Detections'>; found <class 'str'>\n",
      "\n",
      "Sample: 67e300e33501f18e30a54f8e                                                   \n",
      "Error: Expected <class 'fiftyone.core.labels.Detections'>; found <class 'str'>\n",
      "\n",
      "Sample: 67e300e33501f18e30a54f8f                                                   \n",
      "Error: Expected <class 'fiftyone.core.labels.Detections'>; found <class 'str'>\n",
      "\n",
      "Sample: 67e300e33501f18e30a54f90                                                   \n",
      "Error: Expected <class 'fiftyone.core.labels.Detections'>; found <class 'str'>\n",
      "\n",
      "Sample: 67e300e33501f18e30a54f91                                                   \n",
      "Error: Expected <class 'fiftyone.core.labels.Detections'>; found <class 'str'>\n",
      "\n",
      "Sample: 67e300e33501f18e30a54f92                                                   \n",
      "Error: Expected <class 'fiftyone.core.labels.Detections'>; found <class 'str'>\n",
      "\n",
      "Sample: 67e300e33501f18e30a54f93                                                   \n",
      "Error: Expected <class 'fiftyone.core.labels.Detections'>; found <class 'str'>\n",
      "\n",
      "Sample: 67e300e33501f18e30a54f94                                                   \n",
      "Error: Expected <class 'fiftyone.core.labels.Detections'>; found <class 'str'>\n",
      "\n",
      "Sample: 67e300e33501f18e30a54f95                                                   \n",
      "Error: Expected <class 'fiftyone.core.labels.Detections'>; found <class 'str'>\n",
      "\n",
      "Sample: 67e300e33501f18e30a54f96                                                   \n",
      "Error: Expected <class 'fiftyone.core.labels.Detections'>; found <class 'str'>\n",
      "\n",
      "Sample: 67e300e33501f18e30a54f97                                                   \n",
      "Error: Expected <class 'fiftyone.core.labels.Detections'>; found <class 'str'>\n",
      "\n",
      "Sample: 67e300e33501f18e30a54f98                                                   \n",
      "Error: Expected <class 'fiftyone.core.labels.Detections'>; found <class 'str'>\n",
      "\n",
      "Sample: 67e300e33501f18e30a54f99                                                   \n",
      "Error: Expected <class 'fiftyone.core.labels.Detections'>; found <class 'str'>\n",
      "\n",
      "Sample: 67e300e33501f18e30a54f9a                                                   \n",
      "Error: Expected <class 'fiftyone.core.labels.Detections'>; found <class 'str'>\n",
      "\n",
      "Sample: 67e300e33501f18e30a54f9b                                                   \n",
      "Error: Expected <class 'fiftyone.core.labels.Detections'>; found <class 'str'>\n",
      "\n",
      "Sample: 67e300e43501f18e30a54f9c                                                   \n",
      "Error: Expected <class 'fiftyone.core.labels.Detections'>; found <class 'str'>\n",
      "\n",
      "Sample: 67e300e43501f18e30a54f9d                                                   \n",
      "Error: Expected <class 'fiftyone.core.labels.Detections'>; found <class 'str'>\n",
      "\n",
      "Sample: 67e300e43501f18e30a54f9e                                                   \n",
      "Error: Expected <class 'fiftyone.core.labels.Detections'>; found <class 'str'>\n",
      "\n",
      "Sample: 67e300e43501f18e30a54f9f                                                   \n",
      "Error: Expected <class 'fiftyone.core.labels.Detections'>; found <class 'str'>\n",
      "\n",
      "Sample: 67e300e43501f18e30a54fa0                                                   \n",
      "Error: Expected <class 'fiftyone.core.labels.Detections'>; found <class 'str'>\n",
      "\n",
      "Sample: 67e300e43501f18e30a54fa1                                                   \n",
      "Error: Expected <class 'fiftyone.core.labels.Detections'>; found <class 'str'>\n",
      "\n",
      "Sample: 67e300e43501f18e30a54fa2                                                   \n",
      "Error: Expected <class 'fiftyone.core.labels.Detections'>; found <class 'str'>\n",
      "\n",
      "Sample: 67e300e43501f18e30a54fa3                                                   \n",
      "Error: Expected <class 'fiftyone.core.labels.Detections'>; found <class 'str'>\n",
      "\n",
      "Sample: 67e300e43501f18e30a54fa4                                                   \n",
      "Error: Expected <class 'fiftyone.core.labels.Detections'>; found <class 'str'>\n",
      "\n",
      "Sample: 67e300e43501f18e30a54fa5                                                   \n",
      "Error: Expected <class 'fiftyone.core.labels.Detections'>; found <class 'str'>\n",
      "\n",
      "Sample: 67e300e43501f18e30a54fa6                                                   \n",
      "Error: Expected <class 'fiftyone.core.labels.Detections'>; found <class 'str'>\n",
      "\n",
      "Sample: 67e300e43501f18e30a54fa7                                                   \n",
      "Error: Expected <class 'fiftyone.core.labels.Detections'>; found <class 'str'>\n",
      "\n",
      "Sample: 67e300e43501f18e30a54fa8                                                   \n",
      "Error: Expected <class 'fiftyone.core.labels.Detections'>; found <class 'str'>\n",
      "\n",
      "Sample: 67e300e43501f18e30a54fa9                                                   \n",
      "Error: Expected <class 'fiftyone.core.labels.Detections'>; found <class 'str'>\n",
      "\n",
      "Sample: 67e300e43501f18e30a54faa                                                   \n",
      "Error: Expected <class 'fiftyone.core.labels.Detections'>; found <class 'str'>\n",
      "\n",
      "Sample: 67e300e43501f18e30a54fab                                                   \n",
      "Error: Expected <class 'fiftyone.core.labels.Detections'>; found <class 'str'>\n",
      "\n",
      "Sample: 67e300e43501f18e30a54fac                                                   \n",
      "Error: Expected <class 'fiftyone.core.labels.Detections'>; found <class 'str'>\n",
      "\n",
      "Sample: 67e300e43501f18e30a54fad                                                   \n",
      "Error: Expected <class 'fiftyone.core.labels.Detections'>; found <class 'str'>\n",
      "\n",
      "Sample: 67e300e43501f18e30a54fae                                                   \n",
      "Error: Expected <class 'fiftyone.core.labels.Detections'>; found <class 'str'>\n",
      "\n",
      "Sample: 67e300e43501f18e30a54faf                                                   \n",
      "Error: Expected <class 'fiftyone.core.labels.Detections'>; found <class 'str'>\n",
      "\n",
      "Sample: 67e300e43501f18e30a54fb0                                                   \n",
      "Error: Expected <class 'fiftyone.core.labels.Detections'>; found <class 'str'>\n",
      "\n",
      "Sample: 67e300e43501f18e30a54fb1                                                   \n",
      "Error: Expected <class 'fiftyone.core.labels.Detections'>; found <class 'str'>\n",
      "\n",
      "Sample: 67e300e43501f18e30a54fb2                                                   \n",
      "Error: Expected <class 'fiftyone.core.labels.Detections'>; found <class 'str'>\n",
      "\n",
      "Sample: 67e300e43501f18e30a54fb3                                                   \n",
      "Error: Expected <class 'fiftyone.core.labels.Detections'>; found <class 'str'>\n",
      "\n",
      "Sample: 67e300e43501f18e30a54fb4                                                   \n",
      "Error: Expected <class 'fiftyone.core.labels.Detections'>; found <class 'str'>\n",
      "\n",
      "Sample: 67e300e43501f18e30a54fb5                                                   \n",
      "Error: Expected <class 'fiftyone.core.labels.Detections'>; found <class 'str'>\n",
      "\n",
      "Sample: 67e300e43501f18e30a54fb6                                                   \n",
      "Error: Expected <class 'fiftyone.core.labels.Detections'>; found <class 'str'>\n",
      "\n",
      "Sample: 67e300e43501f18e30a54fb7                                                   \n",
      "Error: Expected <class 'fiftyone.core.labels.Detections'>; found <class 'str'>\n",
      "\n",
      "Sample: 67e300e43501f18e30a54fb8                                                   \n",
      "Error: Expected <class 'fiftyone.core.labels.Detections'>; found <class 'str'>\n",
      "\n",
      "Sample: 67e300e43501f18e30a54fb9                                                   \n",
      "Error: Expected <class 'fiftyone.core.labels.Detections'>; found <class 'str'>\n",
      "\n",
      "Sample: 67e300e43501f18e30a54fba                                                   \n",
      "Error: Expected <class 'fiftyone.core.labels.Detections'>; found <class 'str'>\n",
      "\n",
      "Sample: 67e300e43501f18e30a54fbb                                                   \n",
      "Error: Expected <class 'fiftyone.core.labels.Detections'>; found <class 'str'>\n",
      "\n",
      "  37% |██████|----------|  74/200 [9.3s elapsed, 15.5s remaining, 8.4 samples/s]   \n"
     ]
    },
    {
     "ename": "KeyboardInterrupt",
     "evalue": "",
     "output_type": "error",
     "traceback": [
      "\u001b[0;31m---------------------------------------------------------------------------\u001b[0m",
      "\u001b[0;31mKeyboardInterrupt\u001b[0m                         Traceback (most recent call last)",
      "Cell \u001b[0;32mIn[25], line 1\u001b[0m\n\u001b[0;32m----> 1\u001b[0m \u001b[43mds\u001b[49m\u001b[38;5;241;43m.\u001b[39;49m\u001b[43mapply_model\u001b[49m\u001b[43m(\u001b[49m\u001b[43mmodel\u001b[49m\u001b[43m,\u001b[49m\u001b[43m \u001b[49m\u001b[43moutput_field\u001b[49m\u001b[38;5;241;43m=\u001b[39;49m\u001b[38;5;124;43m\"\u001b[39;49m\u001b[38;5;124;43mcaption\u001b[39;49m\u001b[38;5;124;43m\"\u001b[39;49m\u001b[43m)\u001b[49m\n",
      "File \u001b[0;32m~/miniconda3/envs/fiftyone/lib/python3.11/site-packages/fiftyone/core/collections.py:3308\u001b[0m, in \u001b[0;36mSampleCollection.apply_model\u001b[0;34m(self, model, label_field, confidence_thresh, store_logits, batch_size, num_workers, skip_failures, output_dir, rel_dir, progress, **kwargs)\u001b[0m\n\u001b[1;32m   3248\u001b[0m \u001b[38;5;28;01mdef\u001b[39;00m \u001b[38;5;21mapply_model\u001b[39m(\n\u001b[1;32m   3249\u001b[0m     \u001b[38;5;28mself\u001b[39m,\n\u001b[1;32m   3250\u001b[0m     model,\n\u001b[0;32m   (...)\u001b[0m\n\u001b[1;32m   3260\u001b[0m     \u001b[38;5;241m*\u001b[39m\u001b[38;5;241m*\u001b[39mkwargs,\n\u001b[1;32m   3261\u001b[0m ):\n\u001b[1;32m   3262\u001b[0m \u001b[38;5;250m    \u001b[39m\u001b[38;5;124;03m\"\"\"Applies the model to the samples in the collection.\u001b[39;00m\n\u001b[1;32m   3263\u001b[0m \n\u001b[1;32m   3264\u001b[0m \u001b[38;5;124;03m    This method supports all of the following cases:\u001b[39;00m\n\u001b[0;32m   (...)\u001b[0m\n\u001b[1;32m   3306\u001b[0m \u001b[38;5;124;03m            to the underlying inference implementation\u001b[39;00m\n\u001b[1;32m   3307\u001b[0m \u001b[38;5;124;03m    \"\"\"\u001b[39;00m\n\u001b[0;32m-> 3308\u001b[0m     \u001b[43mfomo\u001b[49m\u001b[38;5;241;43m.\u001b[39;49m\u001b[43mapply_model\u001b[49m\u001b[43m(\u001b[49m\n\u001b[1;32m   3309\u001b[0m \u001b[43m        \u001b[49m\u001b[38;5;28;43mself\u001b[39;49m\u001b[43m,\u001b[49m\n\u001b[1;32m   3310\u001b[0m \u001b[43m        \u001b[49m\u001b[43mmodel\u001b[49m\u001b[43m,\u001b[49m\n\u001b[1;32m   3311\u001b[0m \u001b[43m        \u001b[49m\u001b[43mlabel_field\u001b[49m\u001b[38;5;241;43m=\u001b[39;49m\u001b[43mlabel_field\u001b[49m\u001b[43m,\u001b[49m\n\u001b[1;32m   3312\u001b[0m \u001b[43m        \u001b[49m\u001b[43mconfidence_thresh\u001b[49m\u001b[38;5;241;43m=\u001b[39;49m\u001b[43mconfidence_thresh\u001b[49m\u001b[43m,\u001b[49m\n\u001b[1;32m   3313\u001b[0m \u001b[43m        \u001b[49m\u001b[43mstore_logits\u001b[49m\u001b[38;5;241;43m=\u001b[39;49m\u001b[43mstore_logits\u001b[49m\u001b[43m,\u001b[49m\n\u001b[1;32m   3314\u001b[0m \u001b[43m        \u001b[49m\u001b[43mbatch_size\u001b[49m\u001b[38;5;241;43m=\u001b[39;49m\u001b[43mbatch_size\u001b[49m\u001b[43m,\u001b[49m\n\u001b[1;32m   3315\u001b[0m \u001b[43m        \u001b[49m\u001b[43mnum_workers\u001b[49m\u001b[38;5;241;43m=\u001b[39;49m\u001b[43mnum_workers\u001b[49m\u001b[43m,\u001b[49m\n\u001b[1;32m   3316\u001b[0m \u001b[43m        \u001b[49m\u001b[43mskip_failures\u001b[49m\u001b[38;5;241;43m=\u001b[39;49m\u001b[43mskip_failures\u001b[49m\u001b[43m,\u001b[49m\n\u001b[1;32m   3317\u001b[0m \u001b[43m        \u001b[49m\u001b[43moutput_dir\u001b[49m\u001b[38;5;241;43m=\u001b[39;49m\u001b[43moutput_dir\u001b[49m\u001b[43m,\u001b[49m\n\u001b[1;32m   3318\u001b[0m \u001b[43m        \u001b[49m\u001b[43mrel_dir\u001b[49m\u001b[38;5;241;43m=\u001b[39;49m\u001b[43mrel_dir\u001b[49m\u001b[43m,\u001b[49m\n\u001b[1;32m   3319\u001b[0m \u001b[43m        \u001b[49m\u001b[43mprogress\u001b[49m\u001b[38;5;241;43m=\u001b[39;49m\u001b[43mprogress\u001b[49m\u001b[43m,\u001b[49m\n\u001b[1;32m   3320\u001b[0m \u001b[43m        \u001b[49m\u001b[38;5;241;43m*\u001b[39;49m\u001b[38;5;241;43m*\u001b[39;49m\u001b[43mkwargs\u001b[49m\u001b[43m,\u001b[49m\n\u001b[1;32m   3321\u001b[0m \u001b[43m    \u001b[49m\u001b[43m)\u001b[49m\n",
      "File \u001b[0;32m~/miniconda3/envs/fiftyone/lib/python3.11/site-packages/fiftyone/core/models.py:267\u001b[0m, in \u001b[0;36mapply_model\u001b[0;34m(samples, model, label_field, confidence_thresh, store_logits, batch_size, num_workers, skip_failures, output_dir, rel_dir, progress, **kwargs)\u001b[0m\n\u001b[1;32m    255\u001b[0m \u001b[38;5;28;01mif\u001b[39;00m batch_size \u001b[38;5;129;01mis\u001b[39;00m \u001b[38;5;129;01mnot\u001b[39;00m \u001b[38;5;28;01mNone\u001b[39;00m:\n\u001b[1;32m    256\u001b[0m     \u001b[38;5;28;01mreturn\u001b[39;00m _apply_image_model_batch(\n\u001b[1;32m    257\u001b[0m         samples,\n\u001b[1;32m    258\u001b[0m         model,\n\u001b[0;32m   (...)\u001b[0m\n\u001b[1;32m    264\u001b[0m         progress,\n\u001b[1;32m    265\u001b[0m     )\n\u001b[0;32m--> 267\u001b[0m \u001b[38;5;28;01mreturn\u001b[39;00m \u001b[43m_apply_image_model_single\u001b[49m\u001b[43m(\u001b[49m\n\u001b[1;32m    268\u001b[0m \u001b[43m    \u001b[49m\u001b[43msamples\u001b[49m\u001b[43m,\u001b[49m\n\u001b[1;32m    269\u001b[0m \u001b[43m    \u001b[49m\u001b[43mmodel\u001b[49m\u001b[43m,\u001b[49m\n\u001b[1;32m    270\u001b[0m \u001b[43m    \u001b[49m\u001b[43mlabel_field\u001b[49m\u001b[43m,\u001b[49m\n\u001b[1;32m    271\u001b[0m \u001b[43m    \u001b[49m\u001b[43mconfidence_thresh\u001b[49m\u001b[43m,\u001b[49m\n\u001b[1;32m    272\u001b[0m \u001b[43m    \u001b[49m\u001b[43mskip_failures\u001b[49m\u001b[43m,\u001b[49m\n\u001b[1;32m    273\u001b[0m \u001b[43m    \u001b[49m\u001b[43mfilename_maker\u001b[49m\u001b[43m,\u001b[49m\n\u001b[1;32m    274\u001b[0m \u001b[43m    \u001b[49m\u001b[43mprogress\u001b[49m\u001b[43m,\u001b[49m\n\u001b[1;32m    275\u001b[0m \u001b[43m\u001b[49m\u001b[43m)\u001b[49m\n",
      "File \u001b[0;32m~/miniconda3/envs/fiftyone/lib/python3.11/site-packages/fiftyone/core/models.py:333\u001b[0m, in \u001b[0;36m_apply_image_model_single\u001b[0;34m(samples, model, label_field, confidence_thresh, skip_failures, filename_maker, progress)\u001b[0m\n\u001b[1;32m    331\u001b[0m     labels \u001b[38;5;241m=\u001b[39m model\u001b[38;5;241m.\u001b[39mpredict(img, sample\u001b[38;5;241m=\u001b[39msample)\n\u001b[1;32m    332\u001b[0m \u001b[38;5;28;01melse\u001b[39;00m:\n\u001b[0;32m--> 333\u001b[0m     labels \u001b[38;5;241m=\u001b[39m \u001b[43mmodel\u001b[49m\u001b[38;5;241;43m.\u001b[39;49m\u001b[43mpredict\u001b[49m\u001b[43m(\u001b[49m\u001b[43mimg\u001b[49m\u001b[43m)\u001b[49m\n\u001b[1;32m    335\u001b[0m \u001b[38;5;28;01mif\u001b[39;00m filename_maker \u001b[38;5;129;01mis\u001b[39;00m \u001b[38;5;129;01mnot\u001b[39;00m \u001b[38;5;28;01mNone\u001b[39;00m:\n\u001b[1;32m    336\u001b[0m     _export_arrays(labels, sample\u001b[38;5;241m.\u001b[39mfilepath, filename_maker)\n",
      "File \u001b[0;32m~/fiftyone/__models__/florence2/florence2.py:621\u001b[0m, in \u001b[0;36mFlorence2.predict\u001b[0;34m(self, image)\u001b[0m\n\u001b[1;32m    618\u001b[0m pil_image \u001b[38;5;241m=\u001b[39m Image\u001b[38;5;241m.\u001b[39mfromarray(image)\n\u001b[1;32m    620\u001b[0m \u001b[38;5;66;03m# Route through internal prediction pipeline\u001b[39;00m\n\u001b[0;32m--> 621\u001b[0m \u001b[38;5;28;01mreturn\u001b[39;00m \u001b[38;5;28;43mself\u001b[39;49m\u001b[38;5;241;43m.\u001b[39;49m\u001b[43m_predict\u001b[49m\u001b[43m(\u001b[49m\u001b[43mpil_image\u001b[49m\u001b[43m)\u001b[49m\n",
      "File \u001b[0;32m~/fiftyone/__models__/florence2/florence2.py:593\u001b[0m, in \u001b[0;36mFlorence2._predict\u001b[0;34m(self, image)\u001b[0m\n\u001b[1;32m    590\u001b[0m     \u001b[38;5;28;01mraise\u001b[39;00m \u001b[38;5;167;01mValueError\u001b[39;00m(\u001b[38;5;124mf\u001b[39m\u001b[38;5;124m\"\u001b[39m\u001b[38;5;124mUnknown operation: \u001b[39m\u001b[38;5;132;01m{\u001b[39;00m\u001b[38;5;28mself\u001b[39m\u001b[38;5;241m.\u001b[39moperation\u001b[38;5;132;01m}\u001b[39;00m\u001b[38;5;124m\"\u001b[39m)\n\u001b[1;32m    592\u001b[0m \u001b[38;5;66;03m# Call the appropriate prediction method with the image\u001b[39;00m\n\u001b[0;32m--> 593\u001b[0m \u001b[38;5;28;01mreturn\u001b[39;00m \u001b[43mpredict_method\u001b[49m\u001b[43m(\u001b[49m\u001b[43mimage\u001b[49m\u001b[43m)\u001b[49m\n",
      "File \u001b[0;32m~/fiftyone/__models__/florence2/florence2.py:402\u001b[0m, in \u001b[0;36mFlorence2._predict_caption\u001b[0;34m(self, image)\u001b[0m\n\u001b[1;32m    399\u001b[0m task \u001b[38;5;241m=\u001b[39m task_mapping\u001b[38;5;241m.\u001b[39mget(detail_level, task_mapping[\u001b[38;5;28;01mNone\u001b[39;00m])\n\u001b[1;32m    401\u001b[0m \u001b[38;5;66;03m# Generate the caption by running the model and parsing its output\u001b[39;00m\n\u001b[0;32m--> 402\u001b[0m parsed_answer \u001b[38;5;241m=\u001b[39m \u001b[38;5;28;43mself\u001b[39;49m\u001b[38;5;241;43m.\u001b[39;49m\u001b[43m_generate_and_parse\u001b[49m\u001b[43m(\u001b[49m\u001b[43mimage\u001b[49m\u001b[43m,\u001b[49m\u001b[43m \u001b[49m\u001b[43mtask\u001b[49m\u001b[43m)\u001b[49m\n\u001b[1;32m    404\u001b[0m \u001b[38;5;66;03m# Extract and return just the caption text from the parsed response\u001b[39;00m\n\u001b[1;32m    405\u001b[0m \u001b[38;5;28;01mreturn\u001b[39;00m parsed_answer[task]\n",
      "File \u001b[0;32m~/fiftyone/__models__/florence2/florence2.py:269\u001b[0m, in \u001b[0;36mFlorence2._generate_and_parse\u001b[0;34m(self, image, task, text_input, max_new_tokens, num_beams)\u001b[0m\n\u001b[1;32m    266\u001b[0m \u001b[38;5;28;01mif\u001b[39;00m text_input \u001b[38;5;129;01mis\u001b[39;00m \u001b[38;5;129;01mnot\u001b[39;00m \u001b[38;5;28;01mNone\u001b[39;00m:\n\u001b[1;32m    267\u001b[0m     text \u001b[38;5;241m=\u001b[39m text_input\n\u001b[0;32m--> 269\u001b[0m inputs \u001b[38;5;241m=\u001b[39m \u001b[38;5;28;43mself\u001b[39;49m\u001b[38;5;241;43m.\u001b[39;49m\u001b[43mprocessor\u001b[49m\u001b[43m(\u001b[49m\u001b[43mtext\u001b[49m\u001b[38;5;241;43m=\u001b[39;49m\u001b[43mtext\u001b[49m\u001b[43m,\u001b[49m\u001b[43m \u001b[49m\u001b[43mimages\u001b[49m\u001b[38;5;241;43m=\u001b[39;49m\u001b[43mimage\u001b[49m\u001b[43m,\u001b[49m\u001b[43m \u001b[49m\u001b[43mreturn_tensors\u001b[49m\u001b[38;5;241;43m=\u001b[39;49m\u001b[38;5;124;43m\"\u001b[39;49m\u001b[38;5;124;43mpt\u001b[39;49m\u001b[38;5;124;43m\"\u001b[39;49m\u001b[43m)\u001b[49m\n\u001b[1;32m    271\u001b[0m \u001b[38;5;66;03m# Move inputs to device without dtype casting for MPS/CPU\u001b[39;00m\n\u001b[1;32m    272\u001b[0m \u001b[38;5;28;01mfor\u001b[39;00m key \u001b[38;5;129;01min\u001b[39;00m inputs:\n",
      "File \u001b[0;32m~/.cache/huggingface/modules/transformers_modules/Florence-2-base-ft/processing_florence2.py:250\u001b[0m, in \u001b[0;36mFlorence2Processor.__call__\u001b[0;34m(self, text, images, tokenize_newline_separately, padding, truncation, max_length, return_tensors, do_resize, do_normalize, image_mean, image_std, data_format, input_data_format, resample, do_convert_rgb, do_thumbnail, do_align_long_axis, do_rescale)\u001b[0m\n\u001b[1;32m    247\u001b[0m \u001b[38;5;28;01melif\u001b[39;00m \u001b[38;5;28misinstance\u001b[39m(text, \u001b[38;5;28mlist\u001b[39m) \u001b[38;5;129;01mand\u001b[39;00m _is_str_or_image(text[\u001b[38;5;241m0\u001b[39m]):\n\u001b[1;32m    248\u001b[0m     \u001b[38;5;28;01mpass\u001b[39;00m\n\u001b[0;32m--> 250\u001b[0m pixel_values \u001b[38;5;241m=\u001b[39m \u001b[38;5;28;43mself\u001b[39;49m\u001b[38;5;241;43m.\u001b[39;49m\u001b[43mimage_processor\u001b[49m\u001b[43m(\u001b[49m\n\u001b[1;32m    251\u001b[0m \u001b[43m    \u001b[49m\u001b[43mimages\u001b[49m\u001b[43m,\u001b[49m\n\u001b[1;32m    252\u001b[0m \u001b[43m    \u001b[49m\u001b[43mdo_resize\u001b[49m\u001b[38;5;241;43m=\u001b[39;49m\u001b[43mdo_resize\u001b[49m\u001b[43m,\u001b[49m\n\u001b[1;32m    253\u001b[0m \u001b[43m    \u001b[49m\u001b[43mdo_normalize\u001b[49m\u001b[38;5;241;43m=\u001b[39;49m\u001b[43mdo_normalize\u001b[49m\u001b[43m,\u001b[49m\n\u001b[1;32m    254\u001b[0m \u001b[43m    \u001b[49m\u001b[43mreturn_tensors\u001b[49m\u001b[38;5;241;43m=\u001b[39;49m\u001b[43mreturn_tensors\u001b[49m\u001b[43m,\u001b[49m\n\u001b[1;32m    255\u001b[0m \u001b[43m    \u001b[49m\u001b[43mimage_mean\u001b[49m\u001b[38;5;241;43m=\u001b[39;49m\u001b[43mimage_mean\u001b[49m\u001b[43m,\u001b[49m\n\u001b[1;32m    256\u001b[0m \u001b[43m    \u001b[49m\u001b[43mimage_std\u001b[49m\u001b[38;5;241;43m=\u001b[39;49m\u001b[43mimage_std\u001b[49m\u001b[43m,\u001b[49m\n\u001b[1;32m    257\u001b[0m \u001b[43m    \u001b[49m\u001b[43minput_data_format\u001b[49m\u001b[38;5;241;43m=\u001b[39;49m\u001b[43minput_data_format\u001b[49m\u001b[43m,\u001b[49m\n\u001b[1;32m    258\u001b[0m \u001b[43m    \u001b[49m\u001b[43mdata_format\u001b[49m\u001b[38;5;241;43m=\u001b[39;49m\u001b[43mdata_format\u001b[49m\u001b[43m,\u001b[49m\n\u001b[1;32m    259\u001b[0m \u001b[43m    \u001b[49m\u001b[43mresample\u001b[49m\u001b[38;5;241;43m=\u001b[39;49m\u001b[43mresample\u001b[49m\u001b[43m,\u001b[49m\n\u001b[1;32m    260\u001b[0m \u001b[43m    \u001b[49m\u001b[43mdo_convert_rgb\u001b[49m\u001b[38;5;241;43m=\u001b[39;49m\u001b[43mdo_convert_rgb\u001b[49m\u001b[43m,\u001b[49m\n\u001b[1;32m    261\u001b[0m \u001b[43m\u001b[49m\u001b[43m)\u001b[49m[\u001b[38;5;124m\"\u001b[39m\u001b[38;5;124mpixel_values\u001b[39m\u001b[38;5;124m\"\u001b[39m]\n\u001b[1;32m    263\u001b[0m \u001b[38;5;28;01mif\u001b[39;00m max_length \u001b[38;5;129;01mis\u001b[39;00m \u001b[38;5;129;01mnot\u001b[39;00m \u001b[38;5;28;01mNone\u001b[39;00m:\n\u001b[1;32m    264\u001b[0m     max_length \u001b[38;5;241m-\u001b[39m\u001b[38;5;241m=\u001b[39m \u001b[38;5;28mself\u001b[39m\u001b[38;5;241m.\u001b[39mimage_seq_length  \u001b[38;5;66;03m# max_length has to account for the image tokens\u001b[39;00m\n",
      "File \u001b[0;32m~/miniconda3/envs/fiftyone/lib/python3.11/site-packages/transformers/image_processing_utils.py:42\u001b[0m, in \u001b[0;36mBaseImageProcessor.__call__\u001b[0;34m(self, images, **kwargs)\u001b[0m\n\u001b[1;32m     40\u001b[0m \u001b[38;5;28;01mdef\u001b[39;00m \u001b[38;5;21m__call__\u001b[39m(\u001b[38;5;28mself\u001b[39m, images, \u001b[38;5;241m*\u001b[39m\u001b[38;5;241m*\u001b[39mkwargs) \u001b[38;5;241m-\u001b[39m\u001b[38;5;241m>\u001b[39m BatchFeature:\n\u001b[1;32m     41\u001b[0m \u001b[38;5;250m    \u001b[39m\u001b[38;5;124;03m\"\"\"Preprocess an image or a batch of images.\"\"\"\u001b[39;00m\n\u001b[0;32m---> 42\u001b[0m     \u001b[38;5;28;01mreturn\u001b[39;00m \u001b[38;5;28;43mself\u001b[39;49m\u001b[38;5;241;43m.\u001b[39;49m\u001b[43mpreprocess\u001b[49m\u001b[43m(\u001b[49m\u001b[43mimages\u001b[49m\u001b[43m,\u001b[49m\u001b[43m \u001b[49m\u001b[38;5;241;43m*\u001b[39;49m\u001b[38;5;241;43m*\u001b[39;49m\u001b[43mkwargs\u001b[49m\u001b[43m)\u001b[49m\n",
      "File \u001b[0;32m~/miniconda3/envs/fiftyone/lib/python3.11/site-packages/transformers/models/clip/image_processing_clip.py:334\u001b[0m, in \u001b[0;36mCLIPImageProcessor.preprocess\u001b[0;34m(self, images, do_resize, size, resample, do_center_crop, crop_size, do_rescale, rescale_factor, do_normalize, image_mean, image_std, do_convert_rgb, return_tensors, data_format, input_data_format, **kwargs)\u001b[0m\n\u001b[1;32m    331\u001b[0m         image \u001b[38;5;241m=\u001b[39m \u001b[38;5;28mself\u001b[39m\u001b[38;5;241m.\u001b[39mrescale(image\u001b[38;5;241m=\u001b[39mimage, scale\u001b[38;5;241m=\u001b[39mrescale_factor, input_data_format\u001b[38;5;241m=\u001b[39minput_data_format)\n\u001b[1;32m    333\u001b[0m     \u001b[38;5;28;01mif\u001b[39;00m do_normalize:\n\u001b[0;32m--> 334\u001b[0m         image \u001b[38;5;241m=\u001b[39m \u001b[38;5;28;43mself\u001b[39;49m\u001b[38;5;241;43m.\u001b[39;49m\u001b[43mnormalize\u001b[49m\u001b[43m(\u001b[49m\n\u001b[1;32m    335\u001b[0m \u001b[43m            \u001b[49m\u001b[43mimage\u001b[49m\u001b[38;5;241;43m=\u001b[39;49m\u001b[43mimage\u001b[49m\u001b[43m,\u001b[49m\u001b[43m \u001b[49m\u001b[43mmean\u001b[49m\u001b[38;5;241;43m=\u001b[39;49m\u001b[43mimage_mean\u001b[49m\u001b[43m,\u001b[49m\u001b[43m \u001b[49m\u001b[43mstd\u001b[49m\u001b[38;5;241;43m=\u001b[39;49m\u001b[43mimage_std\u001b[49m\u001b[43m,\u001b[49m\u001b[43m \u001b[49m\u001b[43minput_data_format\u001b[49m\u001b[38;5;241;43m=\u001b[39;49m\u001b[43minput_data_format\u001b[49m\n\u001b[1;32m    336\u001b[0m \u001b[43m        \u001b[49m\u001b[43m)\u001b[49m\n\u001b[1;32m    338\u001b[0m     all_images\u001b[38;5;241m.\u001b[39mappend(image)\n\u001b[1;32m    339\u001b[0m images \u001b[38;5;241m=\u001b[39m [\n\u001b[1;32m    340\u001b[0m     to_channel_dimension_format(image, data_format, input_channel_dim\u001b[38;5;241m=\u001b[39minput_data_format)\n\u001b[1;32m    341\u001b[0m     \u001b[38;5;28;01mfor\u001b[39;00m image \u001b[38;5;129;01min\u001b[39;00m all_images\n\u001b[1;32m    342\u001b[0m ]\n",
      "File \u001b[0;32m~/miniconda3/envs/fiftyone/lib/python3.11/site-packages/transformers/image_processing_utils.py:112\u001b[0m, in \u001b[0;36mBaseImageProcessor.normalize\u001b[0;34m(self, image, mean, std, data_format, input_data_format, **kwargs)\u001b[0m\n\u001b[1;32m     79\u001b[0m \u001b[38;5;28;01mdef\u001b[39;00m \u001b[38;5;21mnormalize\u001b[39m(\n\u001b[1;32m     80\u001b[0m     \u001b[38;5;28mself\u001b[39m,\n\u001b[1;32m     81\u001b[0m     image: np\u001b[38;5;241m.\u001b[39mndarray,\n\u001b[0;32m   (...)\u001b[0m\n\u001b[1;32m     86\u001b[0m     \u001b[38;5;241m*\u001b[39m\u001b[38;5;241m*\u001b[39mkwargs,\n\u001b[1;32m     87\u001b[0m ) \u001b[38;5;241m-\u001b[39m\u001b[38;5;241m>\u001b[39m np\u001b[38;5;241m.\u001b[39mndarray:\n\u001b[1;32m     88\u001b[0m \u001b[38;5;250m    \u001b[39m\u001b[38;5;124;03m\"\"\"\u001b[39;00m\n\u001b[1;32m     89\u001b[0m \u001b[38;5;124;03m    Normalize an image. image = (image - image_mean) / image_std.\u001b[39;00m\n\u001b[1;32m     90\u001b[0m \n\u001b[0;32m   (...)\u001b[0m\n\u001b[1;32m    110\u001b[0m \u001b[38;5;124;03m        `np.ndarray`: The normalized image.\u001b[39;00m\n\u001b[1;32m    111\u001b[0m \u001b[38;5;124;03m    \"\"\"\u001b[39;00m\n\u001b[0;32m--> 112\u001b[0m     \u001b[38;5;28;01mreturn\u001b[39;00m \u001b[43mnormalize\u001b[49m\u001b[43m(\u001b[49m\n\u001b[1;32m    113\u001b[0m \u001b[43m        \u001b[49m\u001b[43mimage\u001b[49m\u001b[43m,\u001b[49m\u001b[43m \u001b[49m\u001b[43mmean\u001b[49m\u001b[38;5;241;43m=\u001b[39;49m\u001b[43mmean\u001b[49m\u001b[43m,\u001b[49m\u001b[43m \u001b[49m\u001b[43mstd\u001b[49m\u001b[38;5;241;43m=\u001b[39;49m\u001b[43mstd\u001b[49m\u001b[43m,\u001b[49m\u001b[43m \u001b[49m\u001b[43mdata_format\u001b[49m\u001b[38;5;241;43m=\u001b[39;49m\u001b[43mdata_format\u001b[49m\u001b[43m,\u001b[49m\u001b[43m \u001b[49m\u001b[43minput_data_format\u001b[49m\u001b[38;5;241;43m=\u001b[39;49m\u001b[43minput_data_format\u001b[49m\u001b[43m,\u001b[49m\u001b[43m \u001b[49m\u001b[38;5;241;43m*\u001b[39;49m\u001b[38;5;241;43m*\u001b[39;49m\u001b[43mkwargs\u001b[49m\n\u001b[1;32m    114\u001b[0m \u001b[43m    \u001b[49m\u001b[43m)\u001b[49m\n",
      "\u001b[0;31mKeyboardInterrupt\u001b[0m: "
     ]
    }
   ],
   "source": [
    "ds.apply_model(\n",
    "    model, \n",
    "        detail_level=\"basic\",\n",
    "    output_field=\"basic_caption\",)"
   ]
  },
  {
   "cell_type": "code",
   "execution_count": null,
   "metadata": {},
   "outputs": [],
   "source": []
  }
 ],
 "metadata": {
  "kernelspec": {
   "display_name": "fiftyone",
   "language": "python",
   "name": "python3"
  },
  "language_info": {
   "codemirror_mode": {
    "name": "ipython",
    "version": 3
   },
   "file_extension": ".py",
   "mimetype": "text/x-python",
   "name": "python",
   "nbconvert_exporter": "python",
   "pygments_lexer": "ipython3",
   "version": "3.11.0"
  }
 },
 "nbformat": 4,
 "nbformat_minor": 2
}
