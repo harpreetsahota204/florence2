{
 "cells": [
  {
   "cell_type": "markdown",
   "metadata": {},
   "source": [
    "# Using Florence2 as Remotely Sourced Zoo Model"
   ]
  },
  {
   "cell_type": "code",
   "execution_count": 2,
   "metadata": {},
   "outputs": [
    {
     "name": "stdout",
     "output_type": "stream",
     "text": [
      "Overwriting existing directory '/home/harpreet/fiftyone/quickstart'\n",
      "Downloading dataset to '/home/harpreet/fiftyone/quickstart'\n",
      "Downloading dataset...\n",
      " 100% |████|  187.5Mb/187.5Mb [895.2ms elapsed, 0s remaining, 209.5Mb/s]      \n",
      "Extracting dataset...\n",
      "Parsing dataset metadata\n",
      "Found 200 samples\n",
      "Dataset info written to '/home/harpreet/fiftyone/quickstart/info.json'\n",
      "Loading existing dataset 'quickstart'. To reload from disk, either delete the existing dataset or provide a custom `dataset_name` to use\n"
     ]
    }
   ],
   "source": [
    "import fiftyone as fo\n",
    "import fiftyone.zoo as foz\n",
    "\n",
    "# Load a dataset\n",
    "dataset = foz.load_zoo_dataset(\"quickstart\", overwrite=True)\n",
    "dataset=dataset.take(3)"
   ]
  },
  {
   "cell_type": "markdown",
   "metadata": {},
   "source": [
    "# Setup Zoo Model"
   ]
  },
  {
   "cell_type": "code",
   "execution_count": 3,
   "metadata": {},
   "outputs": [
    {
     "name": "stdout",
     "output_type": "stream",
     "text": [
      "Downloading https://github.com/harpreetsahota204/florence2...\n",
      "  138.5Kb [45.4ms elapsed, ? remaining, 3.0Mb/s] \n",
      "Overwriting existing model source '/home/harpreet/fiftyone/__models__/florence2'\n"
     ]
    }
   ],
   "source": [
    "foz.register_zoo_model_source(\"https://github.com/harpreetsahota204/florence2\", overwrite=True)"
   ]
  },
  {
   "cell_type": "code",
   "execution_count": 4,
   "metadata": {},
   "outputs": [
    {
     "data": {
      "application/vnd.jupyter.widget-view+json": {
       "model_id": "7f38019ef7194637b281caabff845c97",
       "version_major": 2,
       "version_minor": 0
      },
      "text/plain": [
       "Fetching 15 files:   0%|          | 0/15 [00:00<?, ?it/s]"
      ]
     },
     "metadata": {},
     "output_type": "display_data"
    },
    {
     "data": {
      "application/vnd.jupyter.widget-view+json": {
       "model_id": "9cdbe76f01a847ed8a053277138abcf6",
       "version_major": 2,
       "version_minor": 0
      },
      "text/plain": [
       "LICENSE:   0%|          | 0.00/1.14k [00:00<?, ?B/s]"
      ]
     },
     "metadata": {},
     "output_type": "display_data"
    },
    {
     "data": {
      "application/vnd.jupyter.widget-view+json": {
       "model_id": "ba799f16c9af4a508370a0af7648ddcb",
       "version_major": 2,
       "version_minor": 0
      },
      "text/plain": [
       "CODE_OF_CONDUCT.md:   0%|          | 0.00/444 [00:00<?, ?B/s]"
      ]
     },
     "metadata": {},
     "output_type": "display_data"
    },
    {
     "data": {
      "application/vnd.jupyter.widget-view+json": {
       "model_id": "5403d8eb0db34f348659473b88d9e6d8",
       "version_major": 2,
       "version_minor": 0
      },
      "text/plain": [
       "SECURITY.md:   0%|          | 0.00/2.66k [00:00<?, ?B/s]"
      ]
     },
     "metadata": {},
     "output_type": "display_data"
    },
    {
     "data": {
      "application/vnd.jupyter.widget-view+json": {
       "model_id": "c9ae2ffd7d28453f8333dadd10b501af",
       "version_major": 2,
       "version_minor": 0
      },
      "text/plain": [
       "README.md:   0%|          | 0.00/14.8k [00:00<?, ?B/s]"
      ]
     },
     "metadata": {},
     "output_type": "display_data"
    },
    {
     "data": {
      "application/vnd.jupyter.widget-view+json": {
       "model_id": "1153d26b24464807879c9d388fae9699",
       "version_major": 2,
       "version_minor": 0
      },
      "text/plain": [
       "SUPPORT.md:   0%|          | 0.00/1.24k [00:00<?, ?B/s]"
      ]
     },
     "metadata": {},
     "output_type": "display_data"
    },
    {
     "data": {
      "application/vnd.jupyter.widget-view+json": {
       "model_id": "ba2e90eed82c472d842e05e19b021d05",
       "version_major": 2,
       "version_minor": 0
      },
      "text/plain": [
       ".gitattributes:   0%|          | 0.00/1.56k [00:00<?, ?B/s]"
      ]
     },
     "metadata": {},
     "output_type": "display_data"
    },
    {
     "data": {
      "text/plain": [
       "(<fiftyone.zoo.models.RemoteZooModel at 0x76fc2d534f90>,\n",
       " '/home/harpreet/fiftyone/__models__/florence2/Florence-2-base-ft')"
      ]
     },
     "execution_count": 4,
     "metadata": {},
     "output_type": "execute_result"
    }
   ],
   "source": [
    "foz.download_zoo_model(\n",
    "    \"https://github.com/harpreetsahota204/florence2\",\n",
    "    model_name=\"microsoft/Florence-2-base-ft\", \n",
    ")"
   ]
  },
  {
   "cell_type": "code",
   "execution_count": 5,
   "metadata": {},
   "outputs": [
    {
     "data": {
      "application/vnd.jupyter.widget-view+json": {
       "model_id": "67a1a60526164b2181550a1fb324d68a",
       "version_major": 2,
       "version_minor": 0
      },
      "text/plain": [
       "Fetching 15 files:   0%|          | 0/15 [00:00<?, ?it/s]"
      ]
     },
     "metadata": {},
     "output_type": "display_data"
    },
    {
     "name": "stderr",
     "output_type": "stream",
     "text": [
      "/home/harpreet/miniconda3/envs/fiftyone/lib/python3.11/site-packages/timm/models/layers/__init__.py:48: FutureWarning: Importing from timm.models.layers is deprecated, please import via timm.layers\n",
      "  warnings.warn(f\"Importing from {__name__} is deprecated, please import via timm.layers\", FutureWarning)\n",
      "Florence2LanguageForConditionalGeneration has generative capabilities, as `prepare_inputs_for_generation` is explicitly overwritten. However, it doesn't directly inherit from `GenerationMixin`. From 👉v4.50👈 onwards, `PreTrainedModel` will NOT inherit from `GenerationMixin`, and this model will lose the ability to call `generate` and other related functions.\n",
      "  - If you're using `trust_remote_code=True`, you can get rid of this warning by loading the model with an auto class. See https://huggingface.co/docs/transformers/en/model_doc/auto#auto-classes\n",
      "  - If you are the owner of the model architecture code, please modify your model class such that it inherits from `GenerationMixin` (after `PreTrainedModel`, otherwise you'll get an exception).\n",
      "  - If you are not the owner of the model architecture class, please contact the model code owner to update it.\n"
     ]
    }
   ],
   "source": [
    "model = foz.load_zoo_model(\n",
    "    \"microsoft/Florence-2-base-ft\"\n",
    "    )"
   ]
  },
  {
   "cell_type": "markdown",
   "metadata": {},
   "source": [
    "# Use Florence2 for Captions\n",
    "\n",
    "The three captioning operations require no additional arguments beyond selecting the operation type. \n",
    "\n",
    "Supported `detail_level` values:\n",
    "\n",
    "* `basic`\n",
    "\n",
    "*  `detailed`\n",
    "\n",
    "* `more_detailed`"
   ]
  },
  {
   "cell_type": "code",
   "execution_count": 6,
   "metadata": {},
   "outputs": [
    {
     "name": "stdout",
     "output_type": "stream",
     "text": [
      " 100% |█████████████████████| 3/3 [1.4s elapsed, 0s remaining, 2.2 samples/s]      \n"
     ]
    }
   ],
   "source": [
    "model.set_operation(operation=\"caption\", detail_level= \"more_detailed\")\n",
    "\n",
    "dataset.apply_model(\n",
    "    model, \n",
    "    label_field=\"captions\", \n",
    ")"
   ]
  },
  {
   "cell_type": "code",
   "execution_count": 7,
   "metadata": {},
   "outputs": [
    {
     "data": {
      "text/plain": [
       "'A plane is sitting on a runway. The plane is gray and has a yellow propeller on the front. The runway is surrounded by green grass. The sky is blue with white clouds.'"
      ]
     },
     "execution_count": 7,
     "metadata": {},
     "output_type": "execute_result"
    }
   ],
   "source": [
    "dataset.first()['captions']"
   ]
  },
  {
   "cell_type": "markdown",
   "metadata": {},
   "source": [
    "# Use Florence2 for Detection\n",
    "\n",
    "The operations for `detection`, `dense_region_caption`, `region_proposal` don't require additional parameters for general use. \n",
    "\n",
    "However, `open_vocabulary_detection` requires a `text_prompt` parameter to guide the detection towards specific objects. \n",
    "\n",
    "\n",
    "The results are stored as Detections objects containing bounding boxes and labels:"
   ]
  },
  {
   "cell_type": "code",
   "execution_count": 8,
   "metadata": {},
   "outputs": [
    {
     "name": "stdout",
     "output_type": "stream",
     "text": [
      " 100% |█████████████████████| 3/3 [281.9ms elapsed, 0s remaining, 10.6 samples/s]     \n"
     ]
    }
   ],
   "source": [
    "model.set_operation(\n",
    "    operation=\"detection\",\n",
    "    detection_type=\"open_vocabulary_detection\",\n",
    "    text_prompt=\"people\"\n",
    ")\n",
    "\n",
    "dataset.apply_model(\n",
    "    model,\n",
    "    label_field=\"people_detections\",\n",
    ")"
   ]
  },
  {
   "cell_type": "code",
   "execution_count": 9,
   "metadata": {},
   "outputs": [
    {
     "data": {
      "text/plain": [
       "<Detections: {\n",
       "    'detections': [\n",
       "        <Detection: {\n",
       "            'id': '67e71a24821cdb2eb6f8e2cc',\n",
       "            'attributes': {},\n",
       "            'tags': [],\n",
       "            'label': 'people',\n",
       "            'bounding_box': [\n",
       "                0.05349999666213989,\n",
       "                0.3434999988564842,\n",
       "                0.7720000147819519,\n",
       "                0.4550000085763686,\n",
       "            ],\n",
       "            'mask': None,\n",
       "            'mask_path': None,\n",
       "            'confidence': None,\n",
       "            'index': None,\n",
       "        }>,\n",
       "    ],\n",
       "}>"
      ]
     },
     "execution_count": 9,
     "metadata": {},
     "output_type": "execute_result"
    }
   ],
   "source": [
    "dataset.first()['people_detections']"
   ]
  },
  {
   "cell_type": "code",
   "execution_count": 10,
   "metadata": {},
   "outputs": [
    {
     "name": "stdout",
     "output_type": "stream",
     "text": [
      " 100% |█████████████████████| 3/3 [1.0s elapsed, 0s remaining, 2.9 samples/s]         \n"
     ]
    }
   ],
   "source": [
    "model.set_operation(\n",
    "    operation=\"detection\",\n",
    "    detection_type=\"dense_region_caption\",\n",
    ")\n",
    "\n",
    "dataset.apply_model(\n",
    "    model,\n",
    "    label_field=\"dense_detections\",\n",
    ")"
   ]
  },
  {
   "cell_type": "code",
   "execution_count": 11,
   "metadata": {},
   "outputs": [
    {
     "data": {
      "text/plain": [
       "<Detections: {\n",
       "    'detections': [\n",
       "        <Detection: {\n",
       "            'id': '67e71a2d821cdb2eb6f8e2cf',\n",
       "            'attributes': {},\n",
       "            'tags': [],\n",
       "            'label': 'propeller',\n",
       "            'bounding_box': [\n",
       "                0.3125,\n",
       "                0.3484999859919313,\n",
       "                0.2440000057220459,\n",
       "                0.3589999625498573,\n",
       "            ],\n",
       "            'mask': None,\n",
       "            'mask_path': None,\n",
       "            'confidence': None,\n",
       "            'index': None,\n",
       "        }>,\n",
       "    ],\n",
       "}>"
      ]
     },
     "execution_count": 11,
     "metadata": {},
     "output_type": "execute_result"
    }
   ],
   "source": [
    "dataset.first()['dense_detections']"
   ]
  },
  {
   "cell_type": "markdown",
   "metadata": {},
   "source": [
    "# Use Florence2 for Phrase Grounding\n",
    "\n",
    "Phrase grounding requires either a direct caption or a reference to a caption field. You can provide this in two ways:"
   ]
  },
  {
   "cell_type": "code",
   "execution_count": 12,
   "metadata": {},
   "outputs": [
    {
     "name": "stdout",
     "output_type": "stream",
     "text": [
      " 100% |█████████████████████| 3/3 [262.1ms elapsed, 0s remaining, 11.4 samples/s]     \n"
     ]
    }
   ],
   "source": [
    "model.set_operation(    \n",
    "    operation=\"phrase_grounding\",\n",
    "    caption=\"people\",)\n",
    "\n",
    "# Apply with a different operation\n",
    "dataset.apply_model(\n",
    "    model,\n",
    "    label_field=\"cap_phrase_groundings\",\n",
    ")"
   ]
  },
  {
   "cell_type": "code",
   "execution_count": 13,
   "metadata": {},
   "outputs": [
    {
     "data": {
      "text/plain": [
       "<Detections: {\n",
       "    'detections': [\n",
       "        <Detection: {\n",
       "            'id': '67e71a43821cdb2eb6f8e2ff',\n",
       "            'attributes': {},\n",
       "            'tags': [],\n",
       "            'label': 'people',\n",
       "            'bounding_box': [\n",
       "                0.05349999666213989,\n",
       "                0.34049998513429447,\n",
       "                0.7709999918937683,\n",
       "                0.45800002229855824,\n",
       "            ],\n",
       "            'mask': None,\n",
       "            'mask_path': None,\n",
       "            'confidence': None,\n",
       "            'index': None,\n",
       "        }>,\n",
       "    ],\n",
       "}>"
      ]
     },
     "execution_count": 13,
     "metadata": {},
     "output_type": "execute_result"
    }
   ],
   "source": [
    "dataset.first()['cap_phrase_groundings']"
   ]
  },
  {
   "cell_type": "markdown",
   "metadata": {},
   "source": [
    "When you want to use a Field of a Sample for grounding, you use the following pattern:"
   ]
  },
  {
   "cell_type": "code",
   "execution_count": 14,
   "metadata": {},
   "outputs": [
    {
     "name": "stdout",
     "output_type": "stream",
     "text": [
      " 100% |█████████████████████| 3/3 [1.1s elapsed, 0s remaining, 2.6 samples/s]         \n"
     ]
    }
   ],
   "source": [
    "model.set_operation(    \n",
    "    operation=\"phrase_grounding\",\n",
    "    caption_field=\"captions\"\n",
    "    )\n",
    "\n",
    "dataset.apply_model(\n",
    "    model,\n",
    "    label_field=\"cap_field_phrase_groundings\",\n",
    "    caption_field=\"captions\"\n",
    "    )"
   ]
  },
  {
   "cell_type": "code",
   "execution_count": 15,
   "metadata": {},
   "outputs": [
    {
     "data": {
      "text/plain": [
       "<Detections: {\n",
       "    'detections': [\n",
       "        <Detection: {\n",
       "            'id': '67e71a76821cdb2eb6f8e302',\n",
       "            'attributes': {},\n",
       "            'tags': [],\n",
       "            'label': 'A plane',\n",
       "            'bounding_box': [\n",
       "                0.05349999666213989,\n",
       "                0.34249999428242095,\n",
       "                0.7689999461174011,\n",
       "                0.4529999994282421,\n",
       "            ],\n",
       "            'mask': None,\n",
       "            'mask_path': None,\n",
       "            'confidence': None,\n",
       "            'index': None,\n",
       "        }>,\n",
       "        <Detection: {\n",
       "            'id': '67e71a76821cdb2eb6f8e303',\n",
       "            'attributes': {},\n",
       "            'tags': [],\n",
       "            'label': 'runway',\n",
       "            'bounding_box': [\n",
       "                0.0004999999888241291,\n",
       "                0.7854999479700308,\n",
       "                0.9979999656789005,\n",
       "                0.05600004173832699,\n",
       "            ],\n",
       "            'mask': None,\n",
       "            'mask_path': None,\n",
       "            'confidence': None,\n",
       "            'index': None,\n",
       "        }>,\n",
       "        <Detection: {\n",
       "            'id': '67e71a76821cdb2eb6f8e304',\n",
       "            'attributes': {},\n",
       "            'tags': [],\n",
       "            'label': 'The plane',\n",
       "            'bounding_box': [\n",
       "                0.05349999666213989,\n",
       "                0.3434999988564842,\n",
       "                0.7689999461174011,\n",
       "                0.45199999485417885,\n",
       "            ],\n",
       "            'mask': None,\n",
       "            'mask_path': None,\n",
       "            'confidence': None,\n",
       "            'index': None,\n",
       "        }>,\n",
       "        <Detection: {\n",
       "            'id': '67e71a76821cdb2eb6f8e305',\n",
       "            'attributes': {},\n",
       "            'tags': [],\n",
       "            'label': 'propeller',\n",
       "            'bounding_box': [\n",
       "                0.30950000286102297,\n",
       "                0.34549997226974166,\n",
       "                0.24799997806549073,\n",
       "                0.36299998084611024,\n",
       "            ],\n",
       "            'mask': None,\n",
       "            'mask_path': None,\n",
       "            'confidence': None,\n",
       "            'index': None,\n",
       "        }>,\n",
       "        <Detection: {\n",
       "            'id': '67e71a76821cdb2eb6f8e306',\n",
       "            'attributes': {},\n",
       "            'tags': [],\n",
       "            'label': 'The runway',\n",
       "            'bounding_box': [\n",
       "                0.0004999999888241291,\n",
       "                0.7854999479700308,\n",
       "                0.9969999427907169,\n",
       "                0.05600004173832699,\n",
       "            ],\n",
       "            'mask': None,\n",
       "            'mask_path': None,\n",
       "            'confidence': None,\n",
       "            'index': None,\n",
       "        }>,\n",
       "        <Detection: {\n",
       "            'id': '67e71a76821cdb2eb6f8e307',\n",
       "            'attributes': {},\n",
       "            'tags': [],\n",
       "            'label': 'grass',\n",
       "            'bounding_box': [\n",
       "                0.0004999999888241291,\n",
       "                0.8334999531158519,\n",
       "                0.9979999656789005,\n",
       "                0.16500004002305327,\n",
       "            ],\n",
       "            'mask': None,\n",
       "            'mask_path': None,\n",
       "            'confidence': None,\n",
       "            'index': None,\n",
       "        }>,\n",
       "        <Detection: {\n",
       "            'id': '67e71a76821cdb2eb6f8e308',\n",
       "            'attributes': {},\n",
       "            'tags': [],\n",
       "            'label': 'The sky',\n",
       "            'bounding_box': [\n",
       "                0.0004999999888241291,\n",
       "                0.0004999999838076375,\n",
       "                0.9979999656789005,\n",
       "                0.7649999994444344,\n",
       "            ],\n",
       "            'mask': None,\n",
       "            'mask_path': None,\n",
       "            'confidence': None,\n",
       "            'index': None,\n",
       "        }>,\n",
       "        <Detection: {\n",
       "            'id': '67e71a76821cdb2eb6f8e309',\n",
       "            'attributes': {},\n",
       "            'tags': [],\n",
       "            'label': 'clouds',\n",
       "            'bounding_box': [\n",
       "                0.0004999999888241291,\n",
       "                0.0004999999838076375,\n",
       "                0.9969999427907169,\n",
       "                0.7629999902963079,\n",
       "            ],\n",
       "            'mask': None,\n",
       "            'mask_path': None,\n",
       "            'confidence': None,\n",
       "            'index': None,\n",
       "        }>,\n",
       "    ],\n",
       "}>"
      ]
     },
     "execution_count": 15,
     "metadata": {},
     "output_type": "execute_result"
    }
   ],
   "source": [
    "dataset.first()['cap_field_phrase_groundings']"
   ]
  },
  {
   "cell_type": "markdown",
   "metadata": {},
   "source": [
    "# Use Florence2 for Segmentation\n",
    "\n",
    "Segmentation requires either a direct expression or a reference to a field containing expressions. \n",
    "\n",
    "Similar to phrase grounding, you can provide this in two ways:"
   ]
  },
  {
   "cell_type": "code",
   "execution_count": 16,
   "metadata": {},
   "outputs": [
    {
     "name": "stdout",
     "output_type": "stream",
     "text": [
      "   0% ||--------------------| 0/3 [3.0ms elapsed, ? remaining, ? samples/s] "
     ]
    },
    {
     "name": "stderr",
     "output_type": "stream",
     "text": [
      "This is a friendly reminder - the current text generation call will exceed the model's predefined maximum length (1024). Depending on the model, you may observe exceptions, performance degradation, or nothing at all.\n"
     ]
    },
    {
     "name": "stdout",
     "output_type": "stream",
     "text": [
      " 100% |█████████████████████| 3/3 [8.4s elapsed, 0s remaining, 0.4 samples/s]   \n"
     ]
    }
   ],
   "source": [
    "model.set_operation(    \n",
    "    operation=\"segmentation\",\n",
    "    expression=\"people\",)\n",
    "\n",
    "dataset.apply_model(\n",
    "    model,\n",
    "    label_field=\"exp_segmentations\",\n",
    ")"
   ]
  },
  {
   "cell_type": "code",
   "execution_count": 17,
   "metadata": {},
   "outputs": [
    {
     "data": {
      "text/plain": [
       "<Polylines: {\n",
       "    'polylines': [\n",
       "        <Polyline: {\n",
       "            'id': '67e71a96821cdb2eb6f8e32b',\n",
       "            'attributes': {},\n",
       "            'tags': [],\n",
       "            'label': 'object_1',\n",
       "            'points': [\n",
       "                [\n",
       "                    [0.05849999785423279, 0.6024999685533153],\n",
       "                    [0.3085000038146973, 0.6214999839907787],\n",
       "                    [0.39049999713897704, 0.6214999839907787],\n",
       "                    [0.39049999713897704, 0.6144999519723361],\n",
       "                    [0.39049999713897704, 0.6024999685533153],\n",
       "                    [0.39049999713897704, 0.588499975986168],\n",
       "                    [0.39049999713897704, 0.5744999834190208],\n",
       "                    [0.39049999713897704, 0.5604999908518735],\n",
       "                    [0.39049999713897704, 0.5534999945682999],\n",
       "                    [0.39049999713897704, 0.5464999982847263],\n",
       "                    [0.39049999713897704, 0.5414999754144101],\n",
       "                    [0.39049999713897704, 0.5414999754144101],\n",
       "                    [0.3085000038146973, 0.5134999902801156],\n",
       "                    [0.3085000038146973, 0.506499993996542],\n",
       "                    [0.3085000038146973, 0.4994999977129684],\n",
       "                    [0.3085000038146973, 0.4994999977129684],\n",
       "                    [0.39549999237060546, 0.5134999902801156],\n",
       "                    [0.4204999923706055, 0.4874999785590786],\n",
       "                    [0.4204999923706055, 0.4874999785590786],\n",
       "                    [0.42350001335144044, 0.480499982275505],\n",
       "                    [0.42350001335144044, 0.4734999859919313],\n",
       "                    [0.42350001335144044, 0.4664999897083577],\n",
       "                    [0.42350001335144044, 0.4594999934247841],\n",
       "                    [0.42350001335144044, 0.4524999971412105],\n",
       "                    [0.42350001335144044, 0.44550000085763686],\n",
       "                    [0.42350001335144044, 0.43849996883919423],\n",
       "                    [0.42350001335144044, 0.4314999725556206],\n",
       "                    [0.42350001335144044, 0.424499976272047],\n",
       "                    [0.42350001335144044, 0.4174999799884734],\n",
       "                    [0.42350001335144044, 0.41049998370489976],\n",
       "                    [0.42350001335144044, 0.4034999874213261],\n",
       "                    [0.42350001335144044, 0.39649999113775247],\n",
       "                    [0.42350001335144044, 0.38949999485417885],\n",
       "                    [0.42350001335144044, 0.38249999857060524],\n",
       "                    [0.42350001335144044, 0.3755000022870316],\n",
       "                    [0.42350001335144044, 0.368499970268589],\n",
       "                    [0.42350001335144044, 0.3614999739850154],\n",
       "                    [0.42350001335144044, 0.35449997770144176],\n",
       "                    [0.42350001335144044, 0.34949999056599457],\n",
       "                    [0.42350001335144044, 0.34949999056599457],\n",
       "                    [0.4264999866485596, 0.34949999056599457],\n",
       "                    [0.42950000762939455, 0.34949999056599457],\n",
       "                    [0.4315000057220459, 0.34949999056599457],\n",
       "                    [0.43249998092651365, 0.34949999056599457],\n",
       "                    [0.43449997901916504, 0.34949999056599457],\n",
       "                    [0.4355000019073486, 0.34949999056599457],\n",
       "                    [0.4375, 0.34949999056599457],\n",
       "                    [0.43849997520446776, 0.34949999056599457],\n",
       "                    [0.44049997329711915, 0.34949999056599457],\n",
       "                    [0.44049997329711915, 0.35449997770144176],\n",
       "                    [0.44049997329711915, 0.3614999739850154],\n",
       "                    [0.44049997329711915, 0.368499970268589],\n",
       "                    [0.44049997329711915, 0.3755000022870316],\n",
       "                    [0.44049997329711915, 0.38249999857060524],\n",
       "                    [0.44049997329711915, 0.38949999485417885],\n",
       "                    [0.44049997329711915, 0.39649999113775247],\n",
       "                    [0.44049997329711915, 0.4034999874213261],\n",
       "                    [0.44049997329711915, 0.41049998370489976],\n",
       "                    [0.44049997329711915, 0.4174999799884734],\n",
       "                    [0.44049997329711915, 0.424499976272047],\n",
       "                    [0.44049997329711915, 0.4314999725556206],\n",
       "                    [0.44049997329711915, 0.43849996883919423],\n",
       "                    [0.44049997329711915, 0.44550000085763686],\n",
       "                    [0.44049997329711915, 0.4524999971412105],\n",
       "                    [0.44049997329711915, 0.4594999934247841],\n",
       "                    [0.44049997329711915, 0.4664999897083577],\n",
       "                    [0.44049997329711915, 0.4734999859919313],\n",
       "                    [0.44049997329711915, 0.480499982275505],\n",
       "                    [0.44049997329711915, 0.48549996941095214],\n",
       "                    [0.44049997329711915, 0.4874999785590786],\n",
       "                    [0.44049997329711915, 0.49250000142939476],\n",
       "                    [0.44049997329711915, 0.49449997484265223],\n",
       "                    [0.44049997329711915, 0.4974999885648419],\n",
       "                    [0.44049997329711915, 0.4994999977129684],\n",
       "                    [0.44049997329711915, 0.5014999711262258],\n",
       "                    [0.44049997329711915, 0.5044999848484155],\n",
       "                    [0.44049997329711915, 0.506499993996542],\n",
       "                    [0.44049997329711915, 0.5084999674097995],\n",
       "                    [0.44049997329711915, 0.5114999811319891],\n",
       "                    [0.44049997329711915, 0.5134999902801156],\n",
       "                    [0.44049997329711915, 0.5154999994282421],\n",
       "                    [0.44049997329711915, 0.5184999774155628],\n",
       "                    [0.44049997329711915, 0.5204999865636892],\n",
       "                    [0.44049997329711915, 0.5224999957118157],\n",
       "                    [0.44049997329711915, 0.5254999736991364],\n",
       "                    [0.44049997329711915, 0.5274999828472628],\n",
       "                    [0.44049997329711915, 0.5294999919953893],\n",
       "                    [0.44049997329711915, 0.53249996998271],\n",
       "                    [0.44049997329711915, 0.5344999791308365],\n",
       "                    [0.44049997329711915, 0.536499988278963],\n",
       "                    [0.44049997329711915, 0.5394999662662837],\n",
       "                    [0.44049997329711915, 0.5414999754144101],\n",
       "                    [0.44049997329711915, 0.5434999845625366],\n",
       "                    [0.44049997329711915, 0.5464999982847263],\n",
       "                    [0.44049997329711915, 0.5484999716979837],\n",
       "                    [0.44049997329711915, 0.5504999808461102],\n",
       "                    [0.44049997329711915, 0.5534999945682999],\n",
       "                    [0.44049997329711915, 0.5554999679815574],\n",
       "                    [0.44049997329711915, 0.5574999771296838],\n",
       "                    [0.44049997329711915, 0.5604999908518735],\n",
       "                    [0.44049997329711915, 0.562499964265131],\n",
       "                    [0.44049997329711915, 0.5644999734132574],\n",
       "                    [0.44049997329711915, 0.5674999871354471],\n",
       "                    [0.44049997329711915, 0.5694999962835736],\n",
       "                    [0.44049997329711915, 0.571499969696831],\n",
       "                    [0.44049997329711915, 0.5744999834190208],\n",
       "                    [0.44049997329711915, 0.5764999925671472],\n",
       "                    [0.44049997329711915, 0.5784999659804048],\n",
       "                    [0.44049997329711915, 0.5814999797025944],\n",
       "                    [0.44049997329711915, 0.5834999888507209],\n",
       "                    [0.44049997329711915, 0.5854999979988473],\n",
       "                    [0.44049997329711915, 0.588499975986168],\n",
       "                    [0.44049997329711915, 0.5904999851342945],\n",
       "                    [0.44049997329711915, 0.592499994282421],\n",
       "                    [0.44049997329711915, 0.5954999722697416],\n",
       "                    [0.44049997329711915, 0.5974999814178681],\n",
       "                    [0.44049997329711915, 0.5994999905659946],\n",
       "                    [0.44049997329711915, 0.6024999685533153],\n",
       "                    [0.44049997329711915, 0.6044999777014417],\n",
       "                    [0.44049997329711915, 0.6074999914236314],\n",
       "                    [0.44049997329711915, 0.6095000005717579],\n",
       "                    [0.44049997329711915, 0.6115000097198844],\n",
       "                    [0.44049997329711915, 0.6144999519723361],\n",
       "                    [0.44049997329711915, 0.6164999611204626],\n",
       "                    [0.44049997329711915, 0.6184999702685889],\n",
       "                    [0.44049997329711915, 0.6214999839907787],\n",
       "                    [0.44049997329711915, 0.6234999931389051],\n",
       "                    [0.44049997329711915, 0.6255000022870316],\n",
       "                    [0.44049997329711915, 0.6284999445394833],\n",
       "                    [0.44049997329711915, 0.6304999536876098],\n",
       "                    [0.44049997329711915, 0.6324999628357363],\n",
       "                    [0.44049997329711915, 0.6354999765579259],\n",
       "                    [0.44049997329711915, 0.6374999857060524],\n",
       "                    [0.44049997329711915, 0.6394999948541789],\n",
       "                    [0.44049997329711915, 0.6425000085763686],\n",
       "                    [0.44049997329711915, 0.644499946254757],\n",
       "                    [0.44049997329711915, 0.6464999554028835],\n",
       "                    [0.44049997329711915, 0.6494999691250732],\n",
       "                    [0.44049997329711915, 0.6514999782731996],\n",
       "                    [0.44049997329711915, 0.6534999874213261],\n",
       "                    [0.44049997329711915, 0.6565000011435158],\n",
       "                    [0.44049997329711915, 0.6585000102916423],\n",
       "                    [0.44049997329711915, 0.6604999479700308],\n",
       "                    [0.44049997329711915, 0.6634999616922205],\n",
       "                    [0.44049997329711915, 0.6654999708403468],\n",
       "                    [0.44049997329711915, 0.6674999799884733],\n",
       "                    [0.44049997329711915, 0.670499993710663],\n",
       "                    [0.44049997329711915, 0.6725000028587895],\n",
       "                    [0.44049997329711915, 0.674500012006916],\n",
       "                    [0.44049997329711915, 0.6774999542593677],\n",
       "                    [0.44049997329711915, 0.6794999634074942],\n",
       "                    [0.44049997329711915, 0.6814999725556206],\n",
       "                    [0.44049997329711915, 0.6844999862778103],\n",
       "                    [0.44049997329711915, 0.6864999954259368],\n",
       "                    [0.44049997329711915, 0.6885000045740632],\n",
       "                    [0.44049997329711915, 0.6914999468265149],\n",
       "                    [0.44049997329711915, 0.6934999559746414],\n",
       "                    [0.44049997329711915, 0.6954999651227679],\n",
       "                    [0.44049997329711915, 0.6984999788449575],\n",
       "                    [0.44049997329711915, 0.700499987993084],\n",
       "                    [0.44049997329711915, 0.7024999971412105],\n",
       "                    [0.44049997329711915, 0.7055000108634002],\n",
       "                    [0.44049997329711915, 0.7074999485417887],\n",
       "                    [0.44049997329711915, 0.7094999576899151],\n",
       "                    [0.44049997329711915, 0.7124999714121047],\n",
       "                    [0.44049997329711915, 0.7144999805602312],\n",
       "                    [0.44049997329711915, 0.7164999897083577],\n",
       "                    [0.44049997329711915, 0.7195000034305474],\n",
       "                    [0.44049997329711915, 0.7214999411089359],\n",
       "                    [0.44049997329711915, 0.7234999502570624],\n",
       "                    [0.44049997329711915, 0.7264999639792521],\n",
       "                    [0.44049997329711915, 0.7284999731273785],\n",
       "                    [0.44049997329711915, 0.7304999822755049],\n",
       "                    [0.44049997329711915, 0.7334999959976947],\n",
       "                    [0.44049997329711915, 0.7355000051458211],\n",
       "                    [0.44049997329711915, 0.7374999428242096],\n",
       "                    [0.44049997329711915, 0.7404999565463993],\n",
       "                    [0.44049997329711915, 0.7424999656945258],\n",
       "                    [0.44049997329711915, 0.7444999748426522],\n",
       "                    [0.44049997329711915, 0.7474999885648419],\n",
       "                    [0.44049997329711915, 0.7494999977129684],\n",
       "                    [0.44049997329711915, 0.7515000068610949],\n",
       "                    [0.44049997329711915, 0.7544999491135466],\n",
       "                    [0.44049997329711915, 0.756499958261673],\n",
       "                    [0.44049997329711915, 0.7584999674097995],\n",
       "                    [0.44049997329711915, 0.7614999811319891],\n",
       "                    [0.44049997329711915, 0.7634999902801156],\n",
       "                    [0.44049997329711915, 0.7654999994282421],\n",
       "                    [0.44049997329711915, 0.7684999416806938],\n",
       "                    [0.44049997329711915, 0.7704999508288203],\n",
       "                    [0.44049997329711915, 0.7724999599769468],\n",
       "                    [0.44049997329711915, 0.7754999736991364],\n",
       "                    [0.44049997329711915, 0.7774999828472628],\n",
       "                    [0.44049997329711915, 0.7794999919953893],\n",
       "                    [0.44049997329711915, 0.782500005717579],\n",
       "                    [0.44049997329711915, 0.7844999433959675],\n",
       "                    [0.44049997329711915, 0.786499952544094],\n",
       "                    [0.44049997329711915, 0.7894999662662837],\n",
       "                    [0.44049997329711915, 0.7914999754144101],\n",
       "                    [0.44049997329711915, 0.7914999754144101],\n",
       "                    [0.4375, 0.7914999754144101],\n",
       "                    [0.4355000019073486, 0.7914999754144101],\n",
       "                    [0.43449997901916504, 0.7914999754144101],\n",
       "                    [0.43449997901916504, 0.7894999662662837],\n",
       "                    [0.43449997901916504, 0.786499952544094],\n",
       "                    [0.43449997901916504, 0.7844999433959675],\n",
       "                    [0.43449997901916504, 0.782500005717579],\n",
       "                    [0.43449997901916504, 0.7794999919953893],\n",
       "                    [0.43449997901916504, 0.7774999828472628],\n",
       "                    [0.43449997901916504, 0.7754999736991364],\n",
       "                    [0.43449997901916504, 0.7724999599769468],\n",
       "                    [0.43449997901916504, 0.7704999508288203],\n",
       "                    [0.43449997901916504, 0.7684999416806938],\n",
       "                    [0.43449997901916504, 0.7654999994282421],\n",
       "                    [0.43449997901916504, 0.7634999902801156],\n",
       "                    [0.43449997901916504, 0.7614999811319891],\n",
       "                    [0.43449997901916504, 0.7584999674097995],\n",
       "                    [0.43449997901916504, 0.756499958261673],\n",
       "                    [0.43449997901916504, 0.7544999491135466],\n",
       "                    [0.43449997901916504, 0.7515000068610949],\n",
       "                    [0.43449997901916504, 0.7494999977129684],\n",
       "                    [0.43449997901916504, 0.7474999885648419],\n",
       "                    [0.43449997901916504, 0.7444999748426522],\n",
       "                    [0.43449997901916504, 0.7424999656945258],\n",
       "                    [0.43449997901916504, 0.7404999565463993],\n",
       "                    [0.43449997901916504, 0.7374999428242096],\n",
       "                    [0.43449997901916504, 0.7355000051458211],\n",
       "                    [0.43449997901916504, 0.7334999959976947],\n",
       "                    [0.43449997901916504, 0.7304999822755049],\n",
       "                    [0.43449997901916504, 0.7284999731273785],\n",
       "                    [0.43449997901916504, 0.7264999639792521],\n",
       "                    [0.43449997901916504, 0.7234999502570624],\n",
       "                    [0.43449997901916504, 0.7214999411089359],\n",
       "                    [0.43449997901916504, 0.7195000034305474],\n",
       "                    [0.43449997901916504, 0.7164999897083577],\n",
       "                    [0.43449997901916504, 0.7144999805602312],\n",
       "                    [0.43449997901916504, 0.7124999714121047],\n",
       "                    [0.43449997901916504, 0.7094999576899151],\n",
       "                    [0.43449997901916504, 0.7074999485417887],\n",
       "                    [0.43449997901916504, 0.7055000108634002],\n",
       "                    [0.43449997901916504, 0.7024999971412105],\n",
       "                    [0.43449997901916504, 0.700499987993084],\n",
       "                    [0.43449997901916504, 0.6984999788449575],\n",
       "                    [0.43449997901916504, 0.6954999651227679],\n",
       "                    [0.43449997901916504, 0.6934999559746414],\n",
       "                    [0.43449997901916504, 0.6914999468265149],\n",
       "                    [0.43449997901916504, 0.6885000045740632],\n",
       "                    [0.43449997901916504, 0.6864999954259368],\n",
       "                    [0.43449997901916504, 0.6844999862778103],\n",
       "                    [0.43449997901916504, 0.6814999725556206],\n",
       "                    [0.43449997901916504, 0.6794999634074942],\n",
       "                    [0.43449997901916504, 0.6774999542593677],\n",
       "                    [0.43449997901916504, 0.674500012006916],\n",
       "                    [0.43449997901916504, 0.6725000028587895],\n",
       "                    [0.43449997901916504, 0.670499993710663],\n",
       "                    [0.43449997901916504, 0.6674999799884733],\n",
       "                    [0.43449997901916504, 0.6654999708403468],\n",
       "                    [0.43449997901916504, 0.6634999616922205],\n",
       "                    [0.43449997901916504, 0.661499952544094],\n",
       "                    [0.43449997901916504, 0.6604999479700308],\n",
       "                    [0.43449997901916504, 0.6585000102916423],\n",
       "                    [0.43449997901916504, 0.6565000011435158],\n",
       "                    [0.43449997901916504, 0.6554999965694526],\n",
       "                    [0.43449997901916504, 0.6544999919953893],\n",
       "                    [0.43449997901916504, 0.6534999874213261],\n",
       "                    [0.43449997901916504, 0.6524999828472628],\n",
       "                    [0.43449997901916504, 0.6514999782731996],\n",
       "                    [0.43449997901916504, 0.6504999736991364],\n",
       "                    [0.43449997901916504, 0.6494999691250732],\n",
       "                    [0.43449997901916504, 0.64849996455101],\n",
       "                    [0.43449997901916504, 0.6474999599769468],\n",
       "                    [0.43449997901916504, 0.6464999554028835],\n",
       "                    [0.43449997901916504, 0.6454999508288203],\n",
       "                    [0.43449997901916504, 0.644499946254757],\n",
       "                    [0.43449997901916504, 0.6435000131504318],\n",
       "                    [0.43449997901916504, 0.6425000085763686],\n",
       "                    [0.43449997901916504, 0.6415000040023053],\n",
       "                    [0.43449997901916504, 0.6404999994282421],\n",
       "                    [0.43449997901916504, 0.6394999948541789],\n",
       "                    [0.43449997901916504, 0.6384999902801156],\n",
       "                    [0.43449997901916504, 0.6374999857060524],\n",
       "                    [0.43449997901916504, 0.6364999811319891],\n",
       "                    [0.43449997901916504, 0.6354999765579259],\n",
       "                    [0.43449997901916504, 0.6344999719838627],\n",
       "                    [0.43449997901916504, 0.6334999674097995],\n",
       "                    [0.43449997901916504, 0.6324999628357363],\n",
       "                    [0.43449997901916504, 0.631499958261673],\n",
       "                    [0.43449997901916504, 0.6304999536876098],\n",
       "                    [0.43449997901916504, 0.6294999491135466],\n",
       "                    [0.43449997901916504, 0.6284999445394833],\n",
       "                    [0.43449997901916504, 0.6275000114351581],\n",
       "                    [0.43449997901916504, 0.6265000068610949],\n",
       "                    [0.43449997901916504, 0.6255000022870316],\n",
       "                    [0.43449997901916504, 0.6244999977129684],\n",
       "                    [0.43449997901916504, 0.6234999931389051],\n",
       "                    [0.43449997901916504, 0.6224999885648419],\n",
       "                    [0.43449997901916504, 0.6214999839907787],\n",
       "                    [0.43449997901916504, 0.6204999794167154],\n",
       "                    [0.43449997901916504, 0.6194999748426522],\n",
       "                    [0.43449997901916504, 0.6184999702685889],\n",
       "                    [0.43449997901916504, 0.6174999656945258],\n",
       "                    [0.43449997901916504, 0.6164999611204626],\n",
       "                    [0.43449997901916504, 0.6154999565463993],\n",
       "                    [0.43449997901916504, 0.6144999519723361],\n",
       "                    [0.43449997901916504, 0.6134999473982728],\n",
       "                    [0.43449997901916504, 0.6125000142939476],\n",
       "                    [0.43449997901916504, 0.6115000097198844],\n",
       "                    [0.43449997901916504, 0.6105000051458211],\n",
       "                    [0.43449997901916504, 0.6095000005717579],\n",
       "                    [0.43449997901916504, 0.6084999959976947],\n",
       "                    [0.43449997901916504, 0.6074999914236314],\n",
       "                    [0.43449997901916504, 0.6064999868495682],\n",
       "                    [0.43449997901916504, 0.6054999822755049],\n",
       "                    [0.43449997901916504, 0.6044999777014417],\n",
       "                    [0.43449997901916504, 0.6034999731273785],\n",
       "                    [0.43449997901916504, 0.6024999685533153],\n",
       "                    [0.43449997901916504, 0.6014999639792521],\n",
       "                    [0.43449997901916504, 0.6004999594051889],\n",
       "                    [0.43449997901916504, 0.5994999905659946],\n",
       "                    [0.43449997901916504, 0.5984999859919313],\n",
       "                    [0.43449997901916504, 0.5974999814178681],\n",
       "                    [0.43449997901916504, 0.5964999768438048],\n",
       "                    [0.43449997901916504, 0.5954999722697416],\n",
       "                    [0.43449997901916504, 0.5944999676956785],\n",
       "                    [0.43449997901916504, 0.5934999631216152],\n",
       "                    [0.43449997901916504, 0.592499994282421],\n",
       "                    [0.43449997901916504, 0.5914999897083577],\n",
       "                    [0.43449997901916504, 0.5904999851342945],\n",
       "                    [0.43449997901916504, 0.5894999805602312],\n",
       "                    [0.43449997901916504, 0.588499975986168],\n",
       "                    [0.43449997901916504, 0.5874999714121047],\n",
       "                    [0.43449997901916504, 0.5864999668380416],\n",
       "                    [0.43449997901916504, 0.5854999979988473],\n",
       "                    [0.43449997901916504, 0.5844999934247841],\n",
       "                    [0.43449997901916504, 0.5834999888507209],\n",
       "                    [0.43449997901916504, 0.5834999888507209],\n",
       "                    [0.4335000038146973, 0.5834999888507209],\n",
       "                    [0.43249998092651365, 0.5834999888507209],\n",
       "                    [0.43249998092651365, 0.5844999934247841],\n",
       "                    [0.43249998092651365, 0.5854999979988473],\n",
       "                    [0.43249998092651365, 0.5864999668380416],\n",
       "                    [0.43249998092651365, 0.5864999668380416],\n",
       "                    [0.4315000057220459, 0.5864999668380416],\n",
       "                    [0.4315000057220459, 0.5854999979988473],\n",
       "                    [0.4315000057220459, 0.5854999979988473],\n",
       "                    [0.4304999828338623, 0.5854999979988473],\n",
       "                    [0.4304999828338623, 0.5864999668380416],\n",
       "                    [0.4304999828338623, 0.5864999668380416],\n",
       "                    [0.42950000762939455, 0.5864999668380416],\n",
       "                    [0.42950000762939455, 0.5854999979988473],\n",
       "                    [0.42950000762939455, 0.5854999979988473],\n",
       "                    [0.4284999847412109, 0.5854999979988473],\n",
       "                    [0.4284999847412109, 0.5864999668380416],\n",
       "                    [0.4284999847412109, 0.5864999668380416],\n",
       "                    [0.42750000953674316, 0.5864999668380416],\n",
       "                    [0.42750000953674316, 0.5854999979988473],\n",
       "                    [0.42750000953674316, 0.5854999979988473],\n",
       "                    [0.4264999866485596, 0.5854999979988473],\n",
       "                    [0.4264999866485596, 0.5864999668380416],\n",
       "                    [0.4264999866485596, 0.5864999668380416],\n",
       "                    [0.4255000114440918, 0.5864999668380416],\n",
       "                    [0.4255000114440918, 0.5854999979988473],\n",
       "                    [0.4255000114440918, 0.5854999979988473],\n",
       "                    [0.4244999885559082, 0.5854999979988473],\n",
       "                    [0.4244999885559082, 0.5864999668380416],\n",
       "                    [0.4244999885559082, 0.5864999668380416],\n",
       "                    [0.42350001335144044, 0.5864999668380416],\n",
       "                    [0.42350001335144044, 0.5854999979988473],\n",
       "                    [0.42350001335144044, 0.5854999979988473],\n",
       "                    [0.4224999904632568, 0.5854999979988473],\n",
       "                    [0.4224999904632568, 0.5844999934247841],\n",
       "                    [0.4224999904632568, 0.5844999934247841],\n",
       "                    [0.42350001335144044, 0.5844999934247841],\n",
       "                    [0.42350001335144044, 0.5834999888507209],\n",
       "                    [0.42350001335144044, 0.5834999888507209],\n",
       "                    [0.4224999904632568, 0.5834999888507209],\n",
       "                    [0.4224999904632568, 0.5824999842766576],\n",
       "                    [0.4224999904632568, 0.5824999842766576],\n",
       "                    [0.42149996757507324, 0.5824999842766576],\n",
       "                    [0.42149996757507324, 0.5834999888507209],\n",
       "                    [0.42149996757507324, 0.5834999888507209],\n",
       "                    [0.4204999923706055, 0.5834999888507209],\n",
       "                    [0.4204999923706055, 0.5824999842766576],\n",
       "                    [0.4204999923706055, 0.5824999842766576],\n",
       "                    [0.41949996948242185, 0.5824999842766576],\n",
       "                    [0.41949996948242185, 0.5834999888507209],\n",
       "                    [0.41949996948242185, 0.5834999888507209],\n",
       "                    [0.4184999942779541, 0.5834999888507209],\n",
       "                    [0.4184999942779541, 0.5824999842766576],\n",
       "                    [0.4184999942779541, 0.5824999842766576],\n",
       "                    [0.4174999713897705, 0.5824999842766576],\n",
       "                    [0.4174999713897705, 0.5834999888507209],\n",
       "                    [0.4174999713897705, 0.5834999888507209],\n",
       "                    [0.41649999618530276, 0.5834999888507209],\n",
       "                    [0.41649999618530276, 0.5824999842766576],\n",
       "                    [0.41649999618530276, 0.5824999842766576],\n",
       "                    [0.41549997329711913, 0.5824999842766576],\n",
       "                    [0.41549997329711913, 0.5834999888507209],\n",
       "                    [0.41549997329711913, 0.5834999888507209],\n",
       "                    [0.41449999809265137, 0.5834999888507209],\n",
       "                    [0.41449999809265137, 0.5824999842766576],\n",
       "                    [0.41449999809265137, 0.5814999797025944],\n",
       "                    [0.41449999809265137, 0.5814999797025944],\n",
       "                    [0.4134999752044678, 0.5814999797025944],\n",
       "                    [0.4134999752044678, 0.5824999842766576],\n",
       "                    [0.4134999752044678, 0.5834999888507209],\n",
       "                    [0.4134999752044678, 0.5834999888507209],\n",
       "                    [0.4125, 0.5834999888507209],\n",
       "                    [0.4125, 0.5824999842766576],\n",
       "                    [0.4125, 0.5824999842766576],\n",
       "                    [0.4114999771118164, 0.5824999842766576],\n",
       "                    [0.4114999771118164, 0.5834999888507209],\n",
       "                    [0.4114999771118164, 0.5834999888507209],\n",
       "                    [0.41050000190734864, 0.5834999888507209],\n",
       "                    [0.41050000190734864, 0.5824999842766576],\n",
       "                    [0.41050000190734864, 0.5824999842766576],\n",
       "                    [0.409499979019165, 0.5824999842766576],\n",
       "                    [0.409499979019165, 0.5834999888507209],\n",
       "                    [0.409499979019165, 0.5834999888507209],\n",
       "                    [0.40850000381469725, 0.5834999888507209],\n",
       "                    [0.40850000381469725, 0.5824999842766576],\n",
       "                    [0.40850000381469725, 0.5824999842766576],\n",
       "                    [0.4074999809265137, 0.5824999842766576],\n",
       "                    [0.4074999809265137, 0.5834999888507209],\n",
       "                    [0.4074999809265137, 0.5834999888507209],\n",
       "                    [0.4065000057220459, 0.5834999888507209],\n",
       "                    [0.4065000057220459, 0.5824999842766576],\n",
       "                    [0.4065000057220459, 0.5824999842766576],\n",
       "                    [0.4054999828338623, 0.5824999842766576],\n",
       "                    [0.4054999828338623, 0.5834999888507209],\n",
       "                    [0.4054999828338623, 0.5834999888507209],\n",
       "                    [0.40450000762939453, 0.5834999888507209],\n",
       "                    [0.40450000762939453, 0.5824999842766576],\n",
       "                    [0.40450000762939453, 0.5824999842766576],\n",
       "                    [0.40349998474121096, 0.5824999842766576],\n",
       "                    [0.40349998474121096, 0.5834999888507209],\n",
       "                    [0.40349998474121096, 0.5834999888507209],\n",
       "                    [0.40250000953674314, 0.5834999888507209],\n",
       "                    [0.40250000953674314, 0.5824999842766576],\n",
       "                    [0.40250000953674314, 0.5824999842766576],\n",
       "                    [0.40149998664855957, 0.5824999842766576],\n",
       "                    [0.40149998664855957, 0.5834999888507209],\n",
       "                    [0.40149998664855957, 0.5834999888507209],\n",
       "                    [0.4005000114440918, 0.5834999888507209],\n",
       "                    [0.4005000114440918, 0.5824999842766576],\n",
       "                    [0.4005000114440918, 0.5824999842766576],\n",
       "                    [0.3994999885559082, 0.5824999842766576],\n",
       "                    [0.3994999885559082, 0.5834999888507209],\n",
       "                    [0.3994999885559082, 0.5834999888507209],\n",
       "                    [0.39849998950958254, 0.5834999888507209],\n",
       "                    [0.39849998950958254, 0.5824999842766576],\n",
       "                    [0.39849998950958254, 0.5824999842766576],\n",
       "                    [0.39749999046325685, 0.5824999842766576],\n",
       "                    [0.39749999046325685, 0.5834999888507209],\n",
       "                    [0.39749999046325685, 0.5834999888507209],\n",
       "                    [0.39649999141693115, 0.5834999888507209],\n",
       "                    [0.39649999141693115, 0.5824999842766576],\n",
       "                    [0.39649999141693115, 0.5824999842766576],\n",
       "                    [0.39549999237060546, 0.5824999842766576],\n",
       "                    [0.39549999237060546, 0.5834999888507209],\n",
       "                    [0.39549999237060546, 0.5834999888507209],\n",
       "                    [0.39449999332427976, 0.5834999888507209],\n",
       "                    [0.39449999332427976, 0.5824999842766576],\n",
       "                    [0.39449999332427976, 0.5824999842766576],\n",
       "                    [0.3934999942779541, 0.5824999842766576],\n",
       "                    [0.3934999942779541, 0.5834999888507209],\n",
       "                    [0.3934999942779541, 0.5834999888507209],\n",
       "                    [0.39249999523162843, 0.5834999888507209],\n",
       "                    [0.39249999523162843, 0.5824999842766576],\n",
       "                    [0.39249999523162843, 0.5824999842766576],\n",
       "                    [0.39149999618530273, 0.5824999842766576],\n",
       "                    [0.39149999618530273, 0.5834999888507209],\n",
       "                    [0.39149999618530273, 0.5834999888507209],\n",
       "                    [0.39049999713897704, 0.5834999888507209],\n",
       "                    [0.39049999713897704, 0.5824999842766576],\n",
       "                    [0.39049999713897704, 0.5824999842766576],\n",
       "                    [0.38949999809265134, 0.5824999842766576],\n",
       "                    [0.38949999809265134, 0.5834999888507209],\n",
       "                    [0.38949999809265134, 0.5834999888507209],\n",
       "                    [0.3884999990463257, 0.5834999888507209],\n",
       "                    [0.3884999990463257, 0.5824999842766576],\n",
       "                    [0.3884999990463257, 0.5824999842766576],\n",
       "                    [0.3875, 0.5824999842766576],\n",
       "                    [0.3875, 0.5834999888507209],\n",
       "                    [0.3875, 0.5834999888507209],\n",
       "                    [0.3865000009536743, 0.5834999888507209],\n",
       "                    [0.3865000009536743, 0.5824999842766576],\n",
       "                    [0.3855000019073486, 0.5824999842766576],\n",
       "                    [0.3855000019073486, 0.5834999888507209],\n",
       "                    [0.3855000019073486, 0.5834999888507209],\n",
       "                    [0.3845000028610229, 0.5834999888507209],\n",
       "                    [0.3845000028610229, 0.5824999842766576],\n",
       "                    [0.3845000028610229, 0.5824999842766576],\n",
       "                    [0.38349997997283936, 0.5824999842766576],\n",
       "                    [0.38349997997283936, 0.5834999888507209],\n",
       "                    [0.38349997997283936, 0.5834999888507209],\n",
       "                    [0.38249998092651366, 0.5834999888507209],\n",
       "                    [0.38249998092651366, 0.5824999842766576],\n",
       "                    [0.38249998092651366, 0.5824999842766576],\n",
       "                    [0.38149998188018797, 0.5824999842766576],\n",
       "                    [0.38149998188018797, 0.5834999888507209],\n",
       "                    [0.38149998188018797, 0.5834999888507209],\n",
       "                    [0.3804999828338623, 0.5834999888507209],\n",
       "                    [0.3804999828338623, 0.5824999842766576],\n",
       "                    [0.3804999828338623, 0.5834999888507209],\n",
       "                    [0.38149998188018797, 0.5844999934247841],\n",
       "                    [0.38149998188018797, 0.5844999934247841],\n",
       "                    [0.38249998092651366, 0.5844999934247841],\n",
       "                    [0.38249998092651366, 0.5854999979988473],\n",
       "                    [0.38249998092651366, 0.5854999979988473],\n",
       "                    [0.38149998188018797, 0.5854999979988473],\n",
       "                ],\n",
       "            ],\n",
       "            'confidence': None,\n",
       "            'index': None,\n",
       "            'closed': True,\n",
       "            'filled': True,\n",
       "        }>,\n",
       "    ],\n",
       "}>"
      ]
     },
     "execution_count": 17,
     "metadata": {},
     "output_type": "execute_result"
    }
   ],
   "source": [
    "dataset.first()['exp_segmentations']"
   ]
  },
  {
   "cell_type": "markdown",
   "metadata": {},
   "source": [
    "When you want to use a Field of a Sample for grounding, you use the following pattern:"
   ]
  },
  {
   "cell_type": "code",
   "execution_count": 18,
   "metadata": {},
   "outputs": [
    {
     "name": "stdout",
     "output_type": "stream",
     "text": [
      " 100% |█████████████████████| 3/3 [438.5ms elapsed, 0s remaining, 6.8 samples/s]      \n"
     ]
    }
   ],
   "source": [
    "model.set_operation(    \n",
    "    operation=\"segmentation\",\n",
    "    expression_field=\"captions\"\n",
    "    )\n",
    "\n",
    "\n",
    "dataset.apply_model(\n",
    "    model,\n",
    "    label_field=\"exp_field_segmentations\",\n",
    "    expression_field=\"captions\"\n",
    ")"
   ]
  },
  {
   "cell_type": "code",
   "execution_count": 19,
   "metadata": {},
   "outputs": [
    {
     "data": {
      "text/plain": [
       "<Polylines: {\n",
       "    'polylines': [\n",
       "        <Polyline: {\n",
       "            'id': '67e71ace821cdb2eb6f8e32e',\n",
       "            'attributes': {},\n",
       "            'tags': [],\n",
       "            'label': 'object_1',\n",
       "            'points': [\n",
       "                [\n",
       "                    [0.0004999999888241291, 0.7894999662662837],\n",
       "                    [0.9994999885559082, 0.7964999982847263],\n",
       "                    [0.9994999885559082, 0.838499975986168],\n",
       "                    [0.0004999999888241291, 0.838499975986168],\n",
       "                ],\n",
       "            ],\n",
       "            'confidence': None,\n",
       "            'index': None,\n",
       "            'closed': True,\n",
       "            'filled': True,\n",
       "        }>,\n",
       "    ],\n",
       "}>"
      ]
     },
     "execution_count": 19,
     "metadata": {},
     "output_type": "execute_result"
    }
   ],
   "source": [
    "dataset.first()['exp_field_segmentations']"
   ]
  },
  {
   "cell_type": "markdown",
   "metadata": {},
   "source": [
    "# OCR\n",
    "\n",
    "Basic OCR (\"ocr\") requires no additional parameters and returns text strings. For OCR with region information (`ocr_with_region`), you can set `store_region_info=True` to include bounding boxes for each text region:"
   ]
  },
  {
   "cell_type": "code",
   "execution_count": 21,
   "metadata": {},
   "outputs": [
    {
     "name": "stdout",
     "output_type": "stream",
     "text": [
      " 100% |█████████████████████| 3/3 [339.3ms elapsed, 0s remaining, 8.8 samples/s]      \n"
     ]
    }
   ],
   "source": [
    "model.set_operation(operation=\"ocr\", store_region_info=True)\n",
    "\n",
    "dataset.apply_model(model, label_field=\"text_regions\")"
   ]
  },
  {
   "cell_type": "code",
   "execution_count": 22,
   "metadata": {},
   "outputs": [
    {
     "data": {
      "text/plain": [
       "<Detections: {\n",
       "    'detections': [\n",
       "        <Detection: {\n",
       "            'id': '67e71b18821cdb2eb6f8e330',\n",
       "            'attributes': {},\n",
       "            'tags': [],\n",
       "            'label': '</s>VX2801',\n",
       "            'bounding_box': [\n",
       "                0.05649999976158142,\n",
       "                0.6014999639792521,\n",
       "                0.2169999897480011,\n",
       "                0.06300000228703162,\n",
       "            ],\n",
       "            'mask': None,\n",
       "            'mask_path': None,\n",
       "            'confidence': None,\n",
       "            'index': None,\n",
       "        }>,\n",
       "    ],\n",
       "}>"
      ]
     },
     "execution_count": 22,
     "metadata": {},
     "output_type": "execute_result"
    }
   ],
   "source": [
    "dataset.first()['text_regions']"
   ]
  },
  {
   "cell_type": "code",
   "execution_count": 23,
   "metadata": {},
   "outputs": [
    {
     "name": "stdout",
     "output_type": "stream",
     "text": [
      " 100% |█████████████████████| 3/3 [224.3ms elapsed, 0s remaining, 13.4 samples/s]     \n"
     ]
    }
   ],
   "source": [
    "model.set_operation(operation=\"ocr\", store_region_info=False)\n",
    "\n",
    "dataset.apply_model(model, label_field=\"text_regions_no_region_info\")"
   ]
  },
  {
   "cell_type": "code",
   "execution_count": 24,
   "metadata": {},
   "outputs": [
    {
     "data": {
      "text/plain": [
       "'VX2001'"
      ]
     },
     "execution_count": 24,
     "metadata": {},
     "output_type": "execute_result"
    }
   ],
   "source": [
    "dataset.first()['text_regions_no_region_info']"
   ]
  }
 ],
 "metadata": {
  "kernelspec": {
   "display_name": "fiftyone",
   "language": "python",
   "name": "python3"
  },
  "language_info": {
   "codemirror_mode": {
    "name": "ipython",
    "version": 3
   },
   "file_extension": ".py",
   "mimetype": "text/x-python",
   "name": "python",
   "nbconvert_exporter": "python",
   "pygments_lexer": "ipython3",
   "version": "3.11.0"
  }
 },
 "nbformat": 4,
 "nbformat_minor": 2
}
